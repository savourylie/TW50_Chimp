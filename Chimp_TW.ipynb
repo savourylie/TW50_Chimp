{
 "cells": [
  {
   "cell_type": "code",
   "execution_count": 1,
   "metadata": {
    "collapsed": false
   },
   "outputs": [],
   "source": [
    "from yahoo_finance import Share\n",
    "from datetime import datetime, date\n",
    "import pandas as pd\n",
    "import numpy as np\n",
    "%matplotlib inline\n",
    "import matplotlib.pyplot as plt\n",
    "import seaborn as sns\n",
    "from IPython.display import display\n",
    "import pickle\n",
    "\n",
    "pd.set_option('display.max_columns', 50)\n",
    "\n",
    "\n",
    "def getStock(start_date, id):\n",
    "    \"\"\"\n",
    "    datetime format example: '2016-01-28'\n",
    "    \"\"\"\n",
    "    stock = Share(str(id)+'.TW')\n",
    "    today = date.today() #todays date\n",
    "    data = stock.get_historical(start_date, str(today))\n",
    "    return data"
   ]
  },
  {
   "cell_type": "code",
   "execution_count": 2,
   "metadata": {
    "collapsed": true
   },
   "outputs": [],
   "source": [
    "taiwan50_symbols = [1101, 1102, 1216, 1301, 1303, 1326, 1402, 1722, 2002, 2105, 2201, 2207, 2301, 2303, 2308, 2311, 2317,\n",
    "           2324, 2325, 2330, 2347, 2353, 2354, 2357, 2382, 2409, 2412, 2454, 2474, 2498, 2801, 2880, 2881, 2882, 2883,\n",
    "           2885, 2886, 2890, 2891, 2892, 2912, 3008, 3045, 3231, 3481, 3673, 3697, 4904, 5880, 6505]"
   ]
  },
  {
   "cell_type": "code",
   "execution_count": 3,
   "metadata": {
    "collapsed": false
   },
   "outputs": [
    {
     "data": {
      "text/plain": [
       "50"
      ]
     },
     "execution_count": 3,
     "metadata": {},
     "output_type": "execute_result"
    }
   ],
   "source": [
    "len(taiwan50_symbols)"
   ]
  },
  {
   "cell_type": "code",
   "execution_count": 4,
   "metadata": {
    "collapsed": true
   },
   "outputs": [],
   "source": [
    "def create_dataframe(data):\n",
    "    # Create df from data\n",
    "    df = pd.DataFrame(data)\n",
    "    # Set date as index\n",
    "    df = df.set_index('Date')\n",
    "    # Convert index str to datetime object\n",
    "    df.index = pd.to_datetime(df.index)\n",
    "    \n",
    "    # Create dfMain for reordering data\n",
    "    start_date = '2000-01-01'\n",
    "    end_date = '2017-03-03'\n",
    "    dates = pd.date_range(start_date, end_date)\n",
    "    dfMain = pd.DataFrame(index=dates)\n",
    "    dfMain = dfMain.join(df)\n",
    "    dfMain.dropna(inplace=True)\n",
    "    \n",
    "    # Convert str values to numeric\n",
    "    dfMain = dfMain.convert_objects(convert_numeric=True)\n",
    "    \n",
    "    # Drop suspension dates\n",
    "    dfMain.drop(dfMain[dfMain['Volume'] == 0].index, inplace=True)\n",
    "    \n",
    "    # Drop data anomoly based on volume\n",
    "    mean = dfMain['Volume'].mean()\n",
    "    std = dfMain['Volume'].std()\n",
    "    dfMain.drop(dfMain[dfMain['Volume'] - mean > 5 * std].index, inplace=True)\n",
    "    # Drop Symbol Column\n",
    "    del dfMain['Symbol']\n",
    "    \n",
    "    return dfMain"
   ]
  },
  {
   "cell_type": "code",
   "execution_count": 152,
   "metadata": {
    "collapsed": false
   },
   "outputs": [
    {
     "name": "stderr",
     "output_type": "stream",
     "text": [
      "/home/calvinjku/anaconda3/envs/chimp/lib/python3.5/site-packages/ipykernel/__main__.py:18: FutureWarning: convert_objects is deprecated.  Use the data-type specific converters pd.to_datetime, pd.to_timedelta and pd.to_numeric.\n"
     ]
    },
    {
     "name": "stdout",
     "output_type": "stream",
     "text": [
      "Error symbol: 2409\n",
      "Error symbol: 2412\n",
      "Error symbol: 2454\n",
      "Error symbol: 2498\n",
      "Error symbol: 2880\n",
      "Error symbol: 2881\n",
      "Error symbol: 2883\n",
      "Error symbol: 2891\n",
      "Error symbol: 2892\n",
      "Error symbol: 3008\n",
      "Error symbol: 3045\n",
      "Error symbol: 3231\n",
      "Error symbol: 3481\n",
      "Error symbol: 3673\n",
      "Error symbol: 3697\n",
      "Error symbol: 4904\n",
      "Error symbol: 5880\n",
      "Error symbol: 6505\n"
     ]
    }
   ],
   "source": [
    "# # Download and create Taiwan 50 dataframes\n",
    "# taiwan50 = {}\n",
    "\n",
    "# for symbol in taiwan50_symbols:\n",
    "#     try:\n",
    "#         data_temp = getStock('2000-01-01', symbol)\n",
    "#     except (KeyboardInterrupt, SystemExit):\n",
    "#         raise\n",
    "#     except:\n",
    "#         print(\"Error symbol: {}\".format(symbol))\n",
    "#     else:\n",
    "#         taiwan50[symbol] = create_dataframe(data_temp)"
   ]
  },
  {
   "cell_type": "code",
   "execution_count": 153,
   "metadata": {
    "collapsed": false
   },
   "outputs": [
    {
     "data": {
      "text/plain": [
       "32"
      ]
     },
     "execution_count": 153,
     "metadata": {},
     "output_type": "execute_result"
    }
   ],
   "source": [
    "# len(taiwan50)"
   ]
  },
  {
   "cell_type": "code",
   "execution_count": 157,
   "metadata": {
    "collapsed": false
   },
   "outputs": [
    {
     "name": "stdout",
     "output_type": "stream",
     "text": [
      "dict_keys([1216, 2882, 2308, 2885, 2886, 2311, 2890, 1101, 1102, 2317, 2002, 2324, 2325, 1303, 2201, 2330, 1402, 2207, 2912, 2801, 2474, 2347, 1326, 2353, 2354, 2382, 2357, 2105, 1722, 2303, 2301, 1301])\n"
     ]
    }
   ],
   "source": [
    "# print(taiwan50.keys())"
   ]
  },
  {
   "cell_type": "code",
   "execution_count": 156,
   "metadata": {
    "collapsed": false
   },
   "outputs": [],
   "source": [
    "# for key in taiwan50:\n",
    "#     taiwan50[key].to_csv('./data/' + str(key) + '.csv')"
   ]
  },
  {
   "cell_type": "code",
   "execution_count": 28,
   "metadata": {
    "collapsed": false
   },
   "outputs": [],
   "source": [
    "import glob\n",
    "\n",
    "taiwan50 = {}\n",
    "\n",
    "taiwan50_filenames = glob.glob('./data/*.csv')\n",
    "\n",
    "for filename in taiwan50_filenames:\n",
    "    taiwan50[int(filename[-8:-4])] = pd.DataFrame.from_csv(filename)"
   ]
  },
  {
   "cell_type": "code",
   "execution_count": 29,
   "metadata": {
    "collapsed": false
   },
   "outputs": [],
   "source": [
    "good_data_symbols = [1216, 2308, 2311, 2890, 1101, 1102, 2317, 2002, 2324, 2325, 1303, 2201, 2330, 1402, 2207, \n",
    "                     2912, 2801, 2474, 2347, 1326, 2353, 2354, 2382, 2357, 1722, 2303, 2301, 1301]"
   ]
  },
  {
   "cell_type": "code",
   "execution_count": 30,
   "metadata": {
    "collapsed": true
   },
   "outputs": [],
   "source": [
    "stocks = {key: taiwan50[key] for key in good_data_symbols}"
   ]
  },
  {
   "cell_type": "code",
   "execution_count": 31,
   "metadata": {
    "collapsed": true
   },
   "outputs": [],
   "source": [
    "def adjust_prices(dfMain):\n",
    "    # Adjust Open, High, Low, Volume\n",
    "    dfMain['Adj Factor'] = dfMain['Adj_Close'] / dfMain['Close']\n",
    "\n",
    "    dfMain['Open'] = dfMain['Open'] * dfMain['Adj Factor']\n",
    "    dfMain['High'] = dfMain['High'] * dfMain['Adj Factor']\n",
    "    dfMain['Low'] = dfMain['Low'] * dfMain['Adj Factor']\n",
    "    dfMain['Volume'] = dfMain['Volume'] / dfMain['Adj Factor']\n",
    "\n",
    "    dfMain.drop(['Adj Factor'], axis=1, inplace=True)\n",
    "    \n",
    "    return dfMain"
   ]
  },
  {
   "cell_type": "code",
   "execution_count": 32,
   "metadata": {
    "collapsed": true
   },
   "outputs": [],
   "source": [
    "def add_past_prices(dfMain):\n",
    "    # Price Engineering\n",
    "    # Get opens\n",
    "    period_list = [1, 2, 3, 4, 5, 10, 21, 63, 100]\n",
    "    for x in period_list:\n",
    "        dfMain['-' + str(x) + 'd_Open'] = dfMain['Open'].shift(x)\n",
    "\n",
    "    # Get adjCloses\n",
    "    period_list = range(1, 5 + 1)\n",
    "    for x in period_list:\n",
    "        dfMain['-' + str(x) + 'd_adjClose'] = dfMain['Adj_Close'].shift(x)\n",
    "\n",
    "    # Get highs\n",
    "    period_list1 = range(1, 5 + 1)\n",
    "    for x in period_list1:\n",
    "        dfMain['-' + str(x) + 'd_High'] = dfMain['High'].shift(x)\n",
    "\n",
    "    period_list2 = [10, 21, 63, 100]\n",
    "    for x in period_list2:\n",
    "        dfMain[str(x) + 'd_High'] = dfMain['High'].shift().rolling(window=x).max()\n",
    "\n",
    "    # Get lows\n",
    "    period_list1 = range(1, 5 + 1)\n",
    "    for x in period_list1:\n",
    "        dfMain['-' + str(x) + 'd_Low'] = dfMain['Low'].shift(x)\n",
    "\n",
    "    period_list2 = [10, 21, 63, 100]\n",
    "    for x in period_list2:\n",
    "        dfMain[str(x) + 'd_Low'] = dfMain['High'].shift().rolling(window=x).min()\n",
    "    \n",
    "    return dfMain"
   ]
  },
  {
   "cell_type": "code",
   "execution_count": 33,
   "metadata": {
    "collapsed": true
   },
   "outputs": [],
   "source": [
    "def get_bases(dfMain):\n",
    "    # Get Volume Bases\n",
    "    dfMain['100d_Avg_Vol'] = dfMain['Volume'].shift().rolling(window=100).mean() * 1.5\n",
    "    dfMain['100d_Max_Vol'] = dfMain['Volume'].shift().rolling(window=100).max()\n",
    "\n",
    "    # Get Spread Bases\n",
    "    dfMain['Abs_Spread'] = np.abs(dfMain['Adj_Close'] - dfMain['Open'])\n",
    "    dfMain['Abs_Spread_Shift1'] = dfMain['Abs_Spread'].shift()\n",
    "    dfMain['100d_Avg_Spread'] = dfMain['Abs_Spread_Shift1'].rolling(window=100).mean() * 1.5\n",
    "    dfMain['100d_Max_Spread'] = dfMain['100d_High'] - dfMain['100d_Low']\n",
    "\n",
    "    dfMain.drop(['Abs_Spread_Shift1', 'Abs_Spread'], axis=1, inplace=True)\n",
    "    \n",
    "    return dfMain"
   ]
  },
  {
   "cell_type": "code",
   "execution_count": 34,
   "metadata": {
    "collapsed": true
   },
   "outputs": [],
   "source": [
    "def relative_transform(num):\n",
    "    if 0 <= num < 0.25:\n",
    "        return 1\n",
    "    elif 0.25 <= num < 0.5:\n",
    "        return 2\n",
    "    elif 0.5 <= num < 0.75:\n",
    "        return 3\n",
    "    elif 0.75 <= num < 1:\n",
    "        return 4\n",
    "    elif 1 <= num:\n",
    "        return 5\n",
    "    elif -0.25 <= num < 0:\n",
    "        return -1\n",
    "    elif -0.5 <= num < -0.25:\n",
    "        return -2\n",
    "    elif -0.75 <= num < -0.5:\n",
    "        return -3\n",
    "    elif -1 <= num < -0.75:\n",
    "        return -4\n",
    "    elif num < -1:\n",
    "        return -5\n",
    "    else:\n",
    "        num"
   ]
  },
  {
   "cell_type": "code",
   "execution_count": 35,
   "metadata": {
    "collapsed": true
   },
   "outputs": [],
   "source": [
    "def get_volumes(dfMain):\n",
    "    # Volume Engineering\n",
    "    # Get volumes\n",
    "    period_list = range(1, 5 + 1)\n",
    "    for x in period_list:\n",
    "        dfMain['-' + str(x) + 'd_Vol'] = dfMain['Volume'].shift(x)\n",
    "\n",
    "    # Get avg. volumes\n",
    "    period_list = [10, 21, 63]\n",
    "    for x in period_list:\n",
    "        dfMain[str(x) + 'd_Avg_Vol'] = dfMain['Volume'].shift().rolling(window=x).mean()\n",
    "\n",
    "    # Get relative volumes 1\n",
    "    period_list = range(1, 5 + 1)\n",
    "    for x in period_list:\n",
    "        dfMain['-' + str(x) + 'd_Vol1'] = dfMain['-' + str(x) + 'd_Vol'] / dfMain['100d_Avg_Vol']\n",
    "        dfMain['-' + str(x) + 'd_Vol1'] = dfMain['-' + str(x) + 'd_Vol1'].apply(relative_transform)\n",
    "\n",
    "    # Get relative avg. volumes 1\n",
    "    period_list = [10, 21, 63]\n",
    "    for x in period_list:\n",
    "        dfMain[str(x) + 'd_Avg_Vol1'] = dfMain[str(x) + 'd_Avg_Vol'] / dfMain['100d_Avg_Vol']\n",
    "        dfMain[str(x) + 'd_Avg_Vol1'] = dfMain[str(x) + 'd_Avg_Vol1'].apply(relative_transform)\n",
    "\n",
    "    # Get relative volumes 2\n",
    "    period_list = range(1, 5 + 1)\n",
    "    for x in period_list:\n",
    "        dfMain['-' + str(x) + 'd_Vol2'] = dfMain['-' + str(x) + 'd_Vol'] / dfMain['100d_Max_Vol']\n",
    "        dfMain['-' + str(x) + 'd_Vol2'] = dfMain['-' + str(x) + 'd_Vol2'].apply(relative_transform)\n",
    "    \n",
    "    return dfMain"
   ]
  },
  {
   "cell_type": "code",
   "execution_count": 36,
   "metadata": {
    "collapsed": true
   },
   "outputs": [],
   "source": [
    "def get_spreads(dfMain):\n",
    "    # Spread Engineering\n",
    "    # Get spread\n",
    "    period_list1 = range(1, 5 + 1)\n",
    "    period_list2 = [10, 21, 63]\n",
    "\n",
    "    for x in period_list1:\n",
    "        dfMain['-' + str(x) + 'd_Spread'] = dfMain['-' + str(x) + 'd_adjClose'] - dfMain['-' + str(x) + 'd_Open']    \n",
    "\n",
    "    for x in period_list2:\n",
    "        dfMain[str(x) + 'd_Spread'] = dfMain['-1d_adjClose'] - dfMain['-' + str(x) + 'd_Open']\n",
    "\n",
    "    # Get relative spread\n",
    "    period_list1 = range(1, 5 + 1)\n",
    "    period_list2 = [10, 21, 63]\n",
    "\n",
    "    for x in period_list1:\n",
    "        dfMain['-' + str(x) + 'd_Spread'] = dfMain['-' + str(x) + 'd_Spread'] / dfMain['100d_Avg_Spread']\n",
    "        dfMain['-' + str(x) + 'd_Spread'] = dfMain['-' + str(x) + 'd_Spread'].apply(relative_transform)\n",
    "\n",
    "    for x in period_list2:\n",
    "        dfMain[str(x) + 'd_Spread'] = dfMain[str(x) + 'd_Spread'] / dfMain['100d_Max_Spread']\n",
    "        dfMain[str(x) + 'd_Spread'] = dfMain[str(x) + 'd_Spread'].apply(relative_transform)\n",
    "\n",
    "    return dfMain"
   ]
  },
  {
   "cell_type": "code",
   "execution_count": 37,
   "metadata": {
    "collapsed": true
   },
   "outputs": [],
   "source": [
    "def upperwick(open, adj_close, high):\n",
    "    if high > open and high > adj_close:\n",
    "        return True\n",
    "    else:\n",
    "        return False\n",
    "def lowerwick(open, adj_close, low):\n",
    "    if low < open and low < adj_close:\n",
    "        return True\n",
    "    else:\n",
    "        return False"
   ]
  },
  {
   "cell_type": "code",
   "execution_count": 38,
   "metadata": {
    "collapsed": true
   },
   "outputs": [],
   "source": [
    "def get_wicks(dfMain):\n",
    "    period_list1 = range(1, 5 + 1)\n",
    "    period_list2 = [10, 21, 63, 100]\n",
    "    for x in period_list1:\n",
    "        dfMain.ix[:, '-' + str(x) + 'd_upperwick_bool'] = dfMain.apply(lambda row: upperwick(row['-' + str(x) + 'd_Open'], row['-' + str(x) + 'd_adjClose'], row['-' + str(x) + 'd_High']), axis=1)\n",
    "        dfMain.ix[:, '-' + str(x) + 'd_lowerwick_bool'] = dfMain.apply(lambda row: lowerwick(row['-' + str(x) + 'd_Open'], row['-' + str(x) + 'd_adjClose'], row['-' + str(x) + 'd_Low']), axis=1)\n",
    "\n",
    "    for x in period_list2:\n",
    "        dfMain.ix[:, str(x) + 'd_upperwick_bool'] = dfMain.apply(lambda row: upperwick(row['-' + str(x) + 'd_Open'], row['-1d_adjClose'], row[str(x) + 'd_High']), axis=1)\n",
    "        dfMain.ix[:, str(x) + 'd_lowerwick_bool'] = dfMain.apply(lambda row: lowerwick(row['-' + str(x) + 'd_Open'], row['-1d_adjClose'], row[str(x) + 'd_Low']), axis=1)\n",
    "\n",
    "    return dfMain"
   ]
  },
  {
   "cell_type": "code",
   "execution_count": 39,
   "metadata": {
    "collapsed": true
   },
   "outputs": [],
   "source": [
    "def get_upperwick_length(open, adj_close, high):\n",
    "    return high - max(open, adj_close)\n",
    "\n",
    "def get_lowerwick_length(open, adj_close, low):\n",
    "    return min(open, adj_close) - low"
   ]
  },
  {
   "cell_type": "code",
   "execution_count": 40,
   "metadata": {
    "collapsed": true
   },
   "outputs": [],
   "source": [
    "def wick_transform(dfMain):\n",
    "    period_list1 = range(1, 5 + 1)\n",
    "    period_list2 = [10, 21, 63]\n",
    "\n",
    "    for x in period_list1:\n",
    "        has_upperwicks = dfMain['-' + str(x) + 'd_upperwick_bool']\n",
    "        has_lowerwicks = dfMain['-' + str(x) + 'd_lowerwick_bool']\n",
    "\n",
    "        dfMain.loc[has_upperwicks, '-' + str(x) + 'd_upperwick'] = dfMain.loc[has_upperwicks, :].apply(lambda row: get_upperwick_length(row['-' + str(x) + 'd_Open'], row['-' + str(x) + 'd_adjClose'], row['-' + str(x) + 'd_High']), axis=1)\n",
    "        dfMain.loc[has_lowerwicks, '-' + str(x) + 'd_lowerwick'] = dfMain.loc[has_lowerwicks, :].apply(lambda row: get_lowerwick_length(row['-' + str(x) + 'd_Open'], row['-' + str(x) + 'd_adjClose'], row['-' + str(x) + 'd_Low']), axis=1)\n",
    "\n",
    "        # Get relative upperwick length\n",
    "        dfMain.loc[dfMain['-' + str(x) + 'd_upperwick_bool'], '-' + str(x) + 'd_upperwick'] = dfMain.loc[dfMain['-' + str(x) + 'd_upperwick_bool'], '-' + str(x) + 'd_upperwick'] / dfMain.loc[dfMain['-' + str(x) + 'd_upperwick_bool'], '100d_Avg_Spread']\n",
    "        # Get relative lowerwick length\n",
    "        dfMain.loc[dfMain['-' + str(x) + 'd_lowerwick_bool'], '-' + str(x) + 'd_lowerwick'] = dfMain.loc[dfMain['-' + str(x) + 'd_lowerwick_bool'], '-' + str(x) + 'd_lowerwick'] / dfMain.loc[dfMain['-' + str(x) + 'd_lowerwick_bool'], '100d_Avg_Spread']\n",
    "\n",
    "        # Transform upperwick ratio to int\n",
    "        dfMain.loc[dfMain['-' + str(x) + 'd_upperwick_bool'], '-' + str(x) + 'd_upperwick'] = dfMain.loc[dfMain['-' + str(x) + 'd_upperwick_bool'], '-' + str(x) + 'd_upperwick'].apply(relative_transform)\n",
    "        # Transform lowerwick ratio to int\n",
    "        dfMain.loc[dfMain['-' + str(x) + 'd_lowerwick_bool'], '-' + str(x) + 'd_lowerwick'] = dfMain.loc[dfMain['-' + str(x) + 'd_lowerwick_bool'], '-' + str(x) + 'd_lowerwick'].apply(relative_transform)\n",
    "\n",
    "        # Assign 0 to no-upperwick days\n",
    "        dfMain.loc[np.logical_not(dfMain['-' + str(x) + 'd_upperwick_bool']), '-' + str(x) + 'd_upperwick'] = 0\n",
    "        # Assign 0 to no-lowerwick days\n",
    "        dfMain.loc[np.logical_not(dfMain['-' + str(x) + 'd_lowerwick_bool']), '-' + str(x) + 'd_lowerwick'] = 0\n",
    "\n",
    "    for x in period_list2:\n",
    "        has_upperwicks = dfMain[str(x) + 'd_upperwick_bool']\n",
    "        has_lowerwicks = dfMain[str(x) + 'd_lowerwick_bool']\n",
    "\n",
    "        dfMain.loc[has_upperwicks, str(x) + 'd_upperwick'] = dfMain.loc[has_upperwicks, :].apply(lambda row: get_upperwick_length(row['-' + str(x) + 'd_Open'], row['-1d_adjClose'], row[str(x) + 'd_High']), axis=1)\n",
    "        dfMain.loc[has_lowerwicks, str(x) + 'd_lowerwick'] = dfMain.loc[has_lowerwicks, :].apply(lambda row: get_lowerwick_length(row['-' + str(x) + 'd_Open'], row['-1d_adjClose'], row[str(x) + 'd_Low']), axis=1)\n",
    "\n",
    "        # Get relative upperwick length\n",
    "        dfMain.loc[dfMain[str(x) + 'd_upperwick_bool'], str(x) + 'd_upperwick'] = dfMain.loc[dfMain[str(x) + 'd_upperwick_bool'], str(x) + 'd_upperwick'] / dfMain.loc[dfMain[str(x) + 'd_upperwick_bool'], '100d_Avg_Spread']\n",
    "        # Get relative lowerwick length\n",
    "        dfMain.loc[dfMain[str(x) + 'd_lowerwick_bool'], str(x) + 'd_lowerwick'] = dfMain.loc[dfMain[str(x) + 'd_lowerwick_bool'], str(x) + 'd_lowerwick'] / dfMain.loc[dfMain[str(x) + 'd_lowerwick_bool'], '100d_Avg_Spread']\n",
    "\n",
    "        # Transform upperwick ratio to int\n",
    "        dfMain.loc[dfMain[str(x) + 'd_upperwick_bool'], str(x) + 'd_upperwick'] = dfMain.loc[dfMain[str(x) + 'd_upperwick_bool'], str(x) + 'd_upperwick'].apply(relative_transform)\n",
    "        # Transform lowerwick ratio to int\n",
    "        dfMain.loc[dfMain[str(x) + 'd_lowerwick_bool'], str(x) + 'd_lowerwick'] = dfMain.loc[dfMain[str(x) + 'd_lowerwick_bool'], str(x) + 'd_lowerwick'].apply(relative_transform)\n",
    "\n",
    "        # Assign 0 to no-upperwick days\n",
    "        dfMain.loc[np.logical_not(dfMain[str(x) + 'd_upperwick_bool']), str(x) + 'd_upperwick'] = 0\n",
    "        # Assign 0 to no-lowerwick days\n",
    "        dfMain.loc[np.logical_not(dfMain[str(x) + 'd_lowerwick_bool']), str(x) + 'd_lowerwick'] = 0\n",
    "        \n",
    "    return dfMain"
   ]
  },
  {
   "cell_type": "code",
   "execution_count": 41,
   "metadata": {
    "collapsed": true
   },
   "outputs": [],
   "source": [
    "def get_trade_price(dfMain):\n",
    "    dfMain['Trade Price'] = dfMain['Adj_Close']\n",
    "    \n",
    "    return dfMain"
   ]
  },
  {
   "cell_type": "code",
   "execution_count": 42,
   "metadata": {
    "collapsed": true
   },
   "outputs": [],
   "source": [
    "def drop_redundant_cols(dfMain):\n",
    "    dfMain.drop(['Open', 'High', 'Low', 'Close', 'Adj_Close', 'Volume', \\\n",
    "             '-1d_Vol', '-2d_Vol', '-3d_Vol', '-4d_Vol', '-5d_Vol', '10d_Avg_Vol', '21d_Avg_Vol', '63d_Avg_Vol', \\\n",
    "             '-1d_Open', '-2d_Open', '-3d_Open', '-4d_Open', '-5d_Open', '-10d_Open', '-21d_Open', '-63d_Open', '-100d_Open',  \\\n",
    "             '-1d_adjClose', '-2d_adjClose', '-3d_adjClose', '-4d_adjClose', '-5d_adjClose', \\\n",
    "             '-1d_High', '-2d_High', '-3d_High', '-4d_High', '-5d_High', '10d_High', '21d_High', '63d_High', '100d_High',  \\\n",
    "             '-1d_Low', '-2d_Low', '-3d_Low', '-4d_Low', '-5d_Low', '10d_Low', '21d_Low', '63d_Low', '100d_Low',  \\\n",
    "             '100d_Avg_Vol', '100d_Max_Vol', '100d_Avg_Spread', '100d_Max_Spread', \\\n",
    "             '-1d_upperwick_bool', '-2d_upperwick_bool', '-3d_upperwick_bool', '-4d_upperwick_bool', '-5d_upperwick_bool', '10d_upperwick_bool', '21d_upperwick_bool', '63d_upperwick_bool', '100d_upperwick_bool', \\\n",
    "             '-1d_lowerwick_bool', '-2d_lowerwick_bool', '-3d_lowerwick_bool', '-4d_lowerwick_bool', '-5d_lowerwick_bool', '10d_lowerwick_bool', '21d_lowerwick_bool', '63d_lowerwick_bool', '100d_lowerwick_bool'], \\\n",
    "            axis=1, inplace=True)\n",
    "    \n",
    "    return dfMain"
   ]
  },
  {
   "cell_type": "code",
   "execution_count": 43,
   "metadata": {
    "collapsed": true
   },
   "outputs": [],
   "source": [
    "def drop_na_rows(dfMain):\n",
    "    dfMain.dropna(inplace=True)\n",
    "    \n",
    "    return dfMain"
   ]
  },
  {
   "cell_type": "code",
   "execution_count": 44,
   "metadata": {
    "collapsed": true
   },
   "outputs": [],
   "source": [
    "def preprocess_pipeline(dfMain):\n",
    "    dfMain = adjust_prices(dfMain)\n",
    "    dfMain = add_past_prices(dfMain)\n",
    "    dfMain = get_bases(dfMain)\n",
    "    dfMain = get_volumes(dfMain)\n",
    "    dfMain = get_spreads(dfMain)\n",
    "    dfMain = get_wicks(dfMain)\n",
    "    dfMain = wick_transform(dfMain)\n",
    "    dfMain = get_trade_price(dfMain)\n",
    "    dfMain = drop_redundant_cols(dfMain)\n",
    "    dfMain = drop_na_rows(dfMain)\n",
    "    \n",
    "    return dfMain"
   ]
  },
  {
   "cell_type": "code",
   "execution_count": 45,
   "metadata": {
    "collapsed": false
   },
   "outputs": [],
   "source": [
    "stocks_converted = {key: preprocess_pipeline(stocks[key]) for key in stocks}"
   ]
  },
  {
   "cell_type": "code",
   "execution_count": 46,
   "metadata": {
    "collapsed": true
   },
   "outputs": [],
   "source": [
    "# with open('stocks_converted.pickle', 'wb') as handle:\n",
    "#     pickle.dump(stocks_converted, handle, protocol=pickle.HIGHEST_PROTOCOL)"
   ]
  },
  {
   "cell_type": "code",
   "execution_count": 2,
   "metadata": {
    "collapsed": false
   },
   "outputs": [],
   "source": [
    "with open('stocks_converted.pickle', 'rb') as handle:\n",
    "    stocks_converted = pickle.load(handle)"
   ]
  },
  {
   "cell_type": "code",
   "execution_count": 3,
   "metadata": {
    "collapsed": false
   },
   "outputs": [
    {
     "data": {
      "text/plain": [
       "dict_keys([1216, 2308, 2311, 2890, 1101, 1102, 2317, 2002, 2324, 2325, 1303, 2201, 2330, 1722, 2207, 2912, 1301, 2801, 2474, 2347, 1326, 2353, 2354, 2382, 2357, 1402, 2301, 2303])"
      ]
     },
     "execution_count": 3,
     "metadata": {},
     "output_type": "execute_result"
    }
   ],
   "source": [
    "stocks_converted.keys()"
   ]
  },
  {
   "cell_type": "code",
   "execution_count": 4,
   "metadata": {
    "collapsed": false
   },
   "outputs": [],
   "source": [
    "num_stocks = len(stocks_converted)\n",
    "init_money = 1000 * num_stocks\n",
    "\n",
    "val_profit_list = []\n",
    "test_profit_list = []\n",
    "\n",
    "val_start_index = -10*246\n",
    "val_end_index = -5*246-1\n",
    "test_start_index = -5*246\n",
    "test_end_index = -1\n",
    "\n",
    "for key in stocks_converted:\n",
    "    val_start_price = stocks_converted[key].iloc[val_start_index, -1]\n",
    "    val_end_price = stocks_converted[key].iloc[val_end_index, -1]\n",
    "    \n",
    "    val_num_share = 1000 // val_start_price\n",
    "    val_cash_start = 1000 - val_num_share * val_start_price\n",
    "    val_profit = val_num_share * val_end_price + val_cash_start\n",
    "    val_profit_list.append(val_profit)\n",
    "    \n",
    "    test_start_price = stocks_converted[key].iloc[test_start_index, -1]\n",
    "    test_end_price = stocks_converted[key].iloc[test_end_index, -1]\n",
    "    \n",
    "    test_num_share = 1000 // test_start_price\n",
    "    test_cash_start = 1000 - test_num_share * test_start_price\n",
    "    test_profit = test_num_share * test_end_price + test_cash_start    \n",
    "    test_profit_list.append(test_profit)\n",
    "\n",
    "val_profit_sum = np.sum(val_profit_list)\n",
    "test_profit_sum = np.sum(test_profit_list)"
   ]
  },
  {
   "cell_type": "code",
   "execution_count": 5,
   "metadata": {
    "collapsed": false
   },
   "outputs": [
    {
     "name": "stdout",
     "output_type": "stream",
     "text": [
      "Initial asset: 28000\n",
      "PT profit (Val dataset): 39467.63867000001 (ROI: 7.11%)\n",
      "PT profit (Test dataset): 38057.873629999995 (ROI: 6.33%)\n"
     ]
    }
   ],
   "source": [
    "def ROI(start_asset, end_asset, num_year):\n",
    "    return round((np.exp(np.log(end_asset / start_asset) / num_year) - 1) * 100, 2)\n",
    "\n",
    "print(\"Initial asset: {}\".format(init_money))\n",
    "print(\"PT profit (Val dataset): {0} (ROI: {1}%)\".format(val_profit_sum, ROI(init_money, val_profit_sum, 5)))\n",
    "print(\"PT profit (Test dataset): {0} (ROI: {1}%)\".format(test_profit_sum, ROI(init_money, test_profit_sum, 5)))"
   ]
  },
  {
   "cell_type": "code",
   "execution_count": 6,
   "metadata": {
    "collapsed": true
   },
   "outputs": [],
   "source": [
    "validation_start_date = stocks_converted[1216].index[val_start_index]\n",
    "validation_end_date = stocks_converted[1216].index[val_end_index]\n",
    "test_start_date = stocks_converted[1216].index[test_start_index]\n",
    "test_end_date = stocks_converted[1216].index[test_end_index]\n",
    "\n",
    "# print(\"Validation phase\")\n",
    "# print(\"{0} Trade Price: {1}\".format(validation_start_date, data_full.ix[validation_start_date, 'Trade Price']))\n",
    "# print(\"{0} Trade Price: {1}\".format(validation_end_date, data_full.ix[validation_end_date, 'Trade Price']))\n",
    "# validation_phase_data = data_full.ix[validation_start_date:validation_end_date, :]\n",
    "# print(\"Number of dates in validation dataset: {}\\n\".format(len(validation_phase_data)))\n",
    "\n",
    "# print(\"Test phase\")\n",
    "# print(\"{0} Trade Price: {1}\".format(test_start_date, data_full.ix[test_start_date, 'Trade Price']))\n",
    "# print(\"{0} Trade Price: {1}\".format(test_end_date, data_full.ix[test_end_date, 'Trade Price']))\n",
    "# test_phase_data = data_full.ix[test_start_date:test_end_date, :]\n",
    "# print(\"Number of dates in test dataset: {}\".format(len(test_phase_data)))"
   ]
  },
  {
   "cell_type": "code",
   "execution_count": 7,
   "metadata": {
    "collapsed": true
   },
   "outputs": [],
   "source": [
    "import random\n",
    "import time\n",
    "from copy import deepcopy\n",
    "\n",
    "class MonkeyBot(object):\n",
    "    def __init__(self, dfEnv, cash=1000, share=0, pv=0, random_state=0):\n",
    "        random.seed(random_state)\n",
    "        np.random.seed(random_state)\n",
    "        \n",
    "        self.cash = cash\n",
    "        self.share = share\n",
    "        self.pv = pv\n",
    "        self.asset_history_list = []\n",
    "        self.action_list = []\n",
    "        \n",
    "        self.env = deepcopy(dfEnv)\n",
    "\n",
    "    def buy(self, stock_price, cost, fold=1):\n",
    "        if self.cash < stock_price:\n",
    "            self.hold(stock_price)\n",
    "            \n",
    "        else:\n",
    "            num_affordable = int(self.cash // stock_price)\n",
    "            buy_amount = int(num_affordable // fold)\n",
    "            self.cash = self.cash - stock_price * buy_amount\n",
    "            self.share = self.share + buy_amount\n",
    "            self.pv = stock_price * self.share\n",
    "\n",
    "             # Adding transaction cost\n",
    "            self.trading_cost(buy_amount, cost)\n",
    "            \n",
    "        # Append action to action list\n",
    "        self.action_list.append('Buy')\n",
    "\n",
    "    def sell(self, stock_price, cost, fold=1):\n",
    "        if self.share == 0:\n",
    "            self.hold(stock_price)\n",
    "            \n",
    "        else:\n",
    "            sell_amount = int(self.share // fold)\n",
    "            self.cash = self.cash + stock_price * sell_amount\n",
    "            self.pv = 0\n",
    "            self.share = 0\n",
    "\n",
    "            # Adding transaction cost\n",
    "            self.trading_cost(sell_amount, cost)\n",
    "            \n",
    "        self.action_list.append('Sell')\n",
    "\n",
    "    def hold(self, stock_price):\n",
    "        self.pv = stock_price * self.share\n",
    "\n",
    "    def trading_cost(self, trading_amount, cost):\n",
    "            if cost is None:\n",
    "                pass                \n",
    "            elif cost == 'low':\n",
    "                if trading_amount * 0.01 < 1.99:\n",
    "                    self.cash = self.cash - 1.99\n",
    "                else:\n",
    "                    self.cash = self.cash - trading_amount * 0.01\n",
    "            elif cost == 'medium':\n",
    "                if trading_amount * 0.01 < 5:\n",
    "                    self.cash = self.cash - 5\n",
    "                else:\n",
    "                    self.cash = self.cash - trading_amount * 0.01\n",
    "            elif cost == 'high':\n",
    "                if trading_amount * 0.01 < 7:\n",
    "                    self.cash = self.cash - 7\n",
    "                else:\n",
    "                    self.cash = self.cash - trading_amount * 0.01\n",
    "            else:\n",
    "                raise ValueError(\"Invalid cost parameter!\")\n",
    "        \n",
    "    def reset(self):\n",
    "        self.cash = 1000\n",
    "        self.share = 0\n",
    "        self.pv = 0\n",
    "\n",
    "    def make_decision(self, x, cost):\n",
    "        random_choice = random.choice([1, 2])\n",
    "\n",
    "        if random_choice == 0:\n",
    "            self.hold(x)\n",
    "        elif random_choice == 1:\n",
    "            self.buy(x, cost)\n",
    "        elif random_choice == 2:\n",
    "            self.sell(x, cost)\n",
    "        else:\n",
    "            raise ValueError(\"Invalid choice!\")\n",
    "\n",
    "        return self.pv # for frame-wise operation\n",
    "\n",
    "    def simulate(self, iters, cost=None):\n",
    "        start_time = time.time()\n",
    "        for i in range(iters):\n",
    "            for index, row in self.env.iterrows():\n",
    "                self.make_decision(row['Trade Price'], cost)\n",
    "            self.asset_history_list.append(self.pv + self.cash)\n",
    "            self.reset()\n",
    "#         print(\"{0} iterations took {1} seconds\".format(iters, time.time() - start_time))\n",
    "        \n",
    "        return self.asset_history_list, self.action_list"
   ]
  },
  {
   "cell_type": "code",
   "execution_count": 8,
   "metadata": {
    "collapsed": false
   },
   "outputs": [
    {
     "name": "stdout",
     "output_type": "stream",
     "text": [
      "100000 iterations took 21012.817539691925 seconds\n"
     ]
    }
   ],
   "source": [
    "from pathos.multiprocessing import ProcessingPool as Pool\n",
    "from pathos import multiprocessing\n",
    "from functools import partial\n",
    "\n",
    "def monkey_simulation(df, start_date, end_date, iters, random_state=0):\n",
    "    monkey = MonkeyBot(df.ix[start_date:end_date, :], random_state=0)\n",
    "    monkey.simulate(iters)\n",
    "    \n",
    "    return monkey.asset_history_list\n",
    "\n",
    "start_time = time.time()\n",
    "\n",
    "iters = 100000\n",
    "\n",
    "partial_sim = partial(monkey_simulation, start_date=validation_start_date, end_date=validation_end_date, iters=iters, random_state=0)\n",
    "\n",
    "stocks_tuple_list = list(stocks_converted.items())\n",
    "\n",
    "pool = Pool(multiprocessing.cpu_count())\n",
    "result = pool.map(lambda x: partial_sim(x[1]), stocks_tuple_list)\n",
    "result_sum = np.sum(result, axis=0)\n",
    "\n",
    "print(\"{0} iterations took {1} seconds\".format(iters, time.time() - start_time))"
   ]
  },
  {
   "cell_type": "code",
   "execution_count": 9,
   "metadata": {
    "collapsed": false
   },
   "outputs": [
    {
     "data": {
      "text/plain": [
       "(array([  7.30000000e+01,   6.28000000e+02,   2.37900000e+03,\n",
       "          4.96300000e+03,   7.56400000e+03,   9.44100000e+03,\n",
       "          1.01540000e+04,   1.01900000e+04,   9.54300000e+03,\n",
       "          8.49100000e+03,   7.18800000e+03,   6.01900000e+03,\n",
       "          4.90800000e+03,   3.96300000e+03,   3.14400000e+03,\n",
       "          2.57500000e+03,   1.90000000e+03,   1.54200000e+03,\n",
       "          1.20500000e+03,   9.50000000e+02,   7.28000000e+02,\n",
       "          5.53000000e+02,   4.03000000e+02,   3.37000000e+02,\n",
       "          2.43000000e+02,   2.08000000e+02,   1.40000000e+02,\n",
       "          1.04000000e+02,   1.01000000e+02,   8.40000000e+01,\n",
       "          5.10000000e+01,   5.00000000e+01,   2.80000000e+01,\n",
       "          3.80000000e+01,   2.30000000e+01,   1.80000000e+01,\n",
       "          1.30000000e+01,   1.20000000e+01,   7.00000000e+00,\n",
       "          6.00000000e+00,   1.00000000e+01,   8.00000000e+00,\n",
       "          2.00000000e+00,   5.00000000e+00,   4.00000000e+00,\n",
       "          2.00000000e+00,   0.00000000e+00,   0.00000000e+00,\n",
       "          0.00000000e+00,   2.00000000e+00]),\n",
       " array([  244.37915  ,   382.7596676,   521.1401852,   659.5207028,\n",
       "          797.9012204,   936.281738 ,  1074.6622556,  1213.0427732,\n",
       "         1351.4232908,  1489.8038084,  1628.184326 ,  1766.5648436,\n",
       "         1904.9453612,  2043.3258788,  2181.7063964,  2320.086914 ,\n",
       "         2458.4674316,  2596.8479492,  2735.2284668,  2873.6089844,\n",
       "         3011.989502 ,  3150.3700196,  3288.7505372,  3427.1310548,\n",
       "         3565.5115724,  3703.89209  ,  3842.2726076,  3980.6531252,\n",
       "         4119.0336428,  4257.4141604,  4395.794678 ,  4534.1751956,\n",
       "         4672.5557132,  4810.9362308,  4949.3167484,  5087.697266 ,\n",
       "         5226.0777836,  5364.4583012,  5502.8388188,  5641.2193364,\n",
       "         5779.599854 ,  5917.9803716,  6056.3608892,  6194.7414068,\n",
       "         6333.1219244,  6471.502442 ,  6609.8829596,  6748.2634772,\n",
       "         6886.6439948,  7025.0245124,  7163.40503  ]),\n",
       " <a list of 50 Patch objects>)"
      ]
     },
     "execution_count": 9,
     "metadata": {},
     "output_type": "execute_result"
    },
    {
     "data": {
      "image/png": "[encoded data removed]",
      "text/plain": [
       "<matplotlib.figure.Figure at 0x7f82286f2ef0>"
      ]
     },
     "metadata": {},
     "output_type": "display_data"
    }
   ],
   "source": [
    "plt.hist(result[0], bins=50)"
   ]
  },
  {
   "cell_type": "code",
   "execution_count": 10,
   "metadata": {
    "collapsed": false
   },
   "outputs": [
    {
     "data": {
      "text/plain": [
       "(array([  1.30000000e+01,   7.40000000e+01,   3.42000000e+02,\n",
       "          9.04000000e+02,   1.90500000e+03,   3.50500000e+03,\n",
       "          5.09300000e+03,   6.74100000e+03,   7.94300000e+03,\n",
       "          8.84800000e+03,   8.96200000e+03,   8.66100000e+03,\n",
       "          8.00900000e+03,   7.15700000e+03,   6.24900000e+03,\n",
       "          5.21800000e+03,   4.39500000e+03,   3.48400000e+03,\n",
       "          2.93900000e+03,   2.25200000e+03,   1.66800000e+03,\n",
       "          1.34700000e+03,   1.07500000e+03,   7.52000000e+02,\n",
       "          6.04000000e+02,   4.79000000e+02,   3.57000000e+02,\n",
       "          2.64000000e+02,   1.78000000e+02,   1.46000000e+02,\n",
       "          1.15000000e+02,   7.90000000e+01,   5.90000000e+01,\n",
       "          5.30000000e+01,   3.40000000e+01,   2.50000000e+01,\n",
       "          1.90000000e+01,   1.00000000e+01,   6.00000000e+00,\n",
       "          9.00000000e+00,   8.00000000e+00,   6.00000000e+00,\n",
       "          5.00000000e+00,   2.00000000e+00,   0.00000000e+00,\n",
       "          2.00000000e+00,   2.00000000e+00,   1.00000000e+00,\n",
       "          0.00000000e+00,   1.00000000e+00]),\n",
       " array([  14431.48843 ,   16162.444307,   17893.400184,   19624.356061,\n",
       "          21355.311938,   23086.267815,   24817.223692,   26548.179569,\n",
       "          28279.135446,   30010.091323,   31741.0472  ,   33472.003077,\n",
       "          35202.958954,   36933.914831,   38664.870708,   40395.826585,\n",
       "          42126.782462,   43857.738339,   45588.694216,   47319.650093,\n",
       "          49050.60597 ,   50781.561847,   52512.517724,   54243.473601,\n",
       "          55974.429478,   57705.385355,   59436.341232,   61167.297109,\n",
       "          62898.252986,   64629.208863,   66360.16474 ,   68091.120617,\n",
       "          69822.076494,   71553.032371,   73283.988248,   75014.944125,\n",
       "          76745.900002,   78476.855879,   80207.811756,   81938.767633,\n",
       "          83669.72351 ,   85400.679387,   87131.635264,   88862.591141,\n",
       "          90593.547018,   92324.502895,   94055.458772,   95786.414649,\n",
       "          97517.370526,   99248.326403,  100979.28228 ]),\n",
       " <a list of 50 Patch objects>)"
      ]
     },
     "execution_count": 10,
     "metadata": {},
     "output_type": "execute_result"
    },
    {
     "data": {
      "image/png": "[encoded data removed]",
      "text/plain": [
       "<matplotlib.figure.Figure at 0x7f81f424f080>"
      ]
     },
     "metadata": {},
     "output_type": "display_data"
    }
   ],
   "source": [
    "plt.hist(result_sum, bins=50)"
   ]
  },
  {
   "cell_type": "code",
   "execution_count": 11,
   "metadata": {
    "collapsed": false
   },
   "outputs": [
    {
     "data": {
      "text/plain": [
       "count    100000.000000\n",
       "mean      35787.299180\n",
       "std        8572.088652\n",
       "min       14431.488430\n",
       "25%       29711.092000\n",
       "50%       34619.938245\n",
       "75%       40582.646768\n",
       "max      100979.282280\n",
       "dtype: float64"
      ]
     },
     "execution_count": 11,
     "metadata": {},
     "output_type": "execute_result"
    }
   ],
   "source": [
    "pd.Series(result_sum).describe()"
   ]
  },
  {
   "cell_type": "code",
   "execution_count": 17,
   "metadata": {
    "collapsed": true
   },
   "outputs": [],
   "source": [
    "import sys\n",
    "from sklearn.ensemble import RandomForestRegressor\n",
    "class ChimpBot(MonkeyBot):\n",
    "    \"\"\"An agent that learns to drive in the smartcab world.\"\"\"\n",
    "    \n",
    "    def __init__(self, dfEnv, iter_random_rounds, gamma, random_state=0, test_mode=False, cash=1000, share=0, pv=0):\n",
    "        super(ChimpBot, self).__init__(dfEnv, iter_random_rounds, cash, share, pv)\n",
    "        # From MonkeyBot:\n",
    "        # sets self.cash = 1000\n",
    "        # sets self.share = 0\n",
    "        # sets self.pv = 0\n",
    "        # sets self.pv_history_list = []\n",
    "        # sets self.env = dfEnv\n",
    "        # implements buy(self, stock_price)\n",
    "        # implements sell(self, stock_price)\n",
    "        # implements hold(self)\n",
    "\n",
    "        # Set random state\n",
    "        self.random_state = random_state\n",
    "        random.seed(self.random_state)\n",
    "        np.random.seed(self.random_state)\n",
    "        \n",
    "        # Chimp parameters\n",
    "        self.valid_actions = ['Buy', 'Sell']\n",
    "        self.gamma = gamma # Discount factor\n",
    "        self.epsilon = 1 # Exploration-exploitation\n",
    "        self.test_mode = test_mode\n",
    "        self.random_rounds = iter_random_rounds # Number of rounds where the bot chooses to go monkey\n",
    "        self.num_features = len(dfEnv.columns) # Use every columns from the input data\n",
    "        \n",
    "        # Turn input data into index, row\n",
    "        self.iter_env = self.env.iterrows()\n",
    "        self.now_env_index, self.now_row = next(self.iter_env)\n",
    "\n",
    "        # Numpy alternative\n",
    "#         self.env_arr = self.env.values\n",
    "#         self.now_row = 0\n",
    "\n",
    "        # May need to put back later\n",
    "#         self.prev_cash = self.cash\n",
    "#         self.prev_share = self.share\n",
    "#         self.prev_pv = self.pv\n",
    "\n",
    "        # Q-table and q_df\n",
    "        self.q_df_columns = list(self.env.columns)\n",
    "        self.q_df_columns.extend(['Action', 'Q Value'])\n",
    "        self.q_df = pd.DataFrame(columns=self.q_df_columns)\n",
    "        \n",
    "        self.q_dict = defaultdict(lambda: (0, 0)) # element of q_dict is (state, act): (q_value, t)\n",
    "        self.q_dict_analysis = defaultdict(lambda: (0, 0))\n",
    "\n",
    "        # Misc\n",
    "        self.reset_counter = 0\n",
    "\n",
    "    def make_q_df(self):\n",
    "        \"\"\"Make a q_df out of the q_dict.\"\"\"\n",
    "#         print(\"Making q_df...\")\n",
    "        result_dict = defaultdict(list)\n",
    "        for index, row in self.q_dict.items():\n",
    "            for i in range(len(list(self.q_dict.keys())[0])):\n",
    "                column_name = 'col' + str(i + 1)\n",
    "                result_dict[column_name].append(index[i])\n",
    "            result_dict['Q'].append(self.q_dict[index][0])\n",
    "\n",
    "        self.q_df = pd.DataFrame(result_dict)\n",
    "        q_df_column_list = ['col' + str(x) for x in range(1, self.num_features - 1 + 1 + 1)] # features + action\n",
    "        q_df_column_list.append('Q')\n",
    "        self.q_df = self.q_df[q_df_column_list]\n",
    "\n",
    "        def transfer_action(x):\n",
    "            if x == 'Buy':\n",
    "                return 1\n",
    "            elif x == 'Sell':\n",
    "                return 2\n",
    "            elif x == 'Hold':\n",
    "                return 0\n",
    "            else:\n",
    "                raise ValueError(\"Wrong action!\")\n",
    "\n",
    "        def str_float_int(x):\n",
    "            return int(float(x))\n",
    "\n",
    "        arr_int = np.vectorize(str_float_int)\n",
    "\n",
    "#         print(self.q_df.head())\n",
    "        self.q_df.ix[:, -2] = self.q_df.ix[:, -2].apply(transfer_action)\n",
    "        self.q_df.ix[:, :-1] = self.q_df.ix[:, :-1].apply(arr_int) # Maybe useless\n",
    "\n",
    "    def split_q_df(self):\n",
    "        \"\"\"Splitting q_df into features and labels.\"\"\"\n",
    "        \n",
    "        self.q_df_X = self.q_df.ix[:, :-1]\n",
    "        self.q_df_y = self.q_df.ix[:, -1]\n",
    "\n",
    "    def train_on_q_df(self):\n",
    "        \"\"\"Model the q_df.\"\"\"\n",
    "#         print(\"Training on q_df...\")\n",
    "        self.q_reg = RandomForestRegressor(n_estimators=2000, max_features='sqrt', n_jobs=-1, random_state=self.random_state)\n",
    "        self.q_reg = self.q_reg.fit(self.q_df_X, self.q_df_y)\n",
    "\n",
    "    def update_q_model(self):\n",
    "        \"\"\"1. Make q_df\n",
    "           2. Split q_df\n",
    "           3. Train on q_df\n",
    "        \"\"\"\n",
    "#         print(\"Updating Q model...\")\n",
    "#         start_time = time.time()\n",
    "        self.make_q_df()\n",
    "        self.split_q_df()\n",
    "        self.train_on_q_df()\n",
    "#         print(\"Update took {} seconds\".format(time.time() - start_time))\n",
    "\n",
    "    def from_state_action_predict_q(self, state_action):\n",
    "        \"\"\"Make prediction using self.reg\"\"\"\n",
    "        state_action = [state_action]\n",
    "        pred_q = self.q_reg.predict(state_action)\n",
    "\n",
    "        return pred_q\n",
    "\n",
    "    def max_q(self):\n",
    "#         print(\"Calculating Max Q\")\n",
    "        def transfer_action(x):\n",
    "            if x == 'Buy':\n",
    "                return 1\n",
    "            elif x == 'Sell':\n",
    "                return 2\n",
    "            elif x == 'Hold':\n",
    "                return 0\n",
    "            else:\n",
    "                raise ValueError(\"Invalid action!\")\n",
    "\n",
    "#         def str_float_int(x):\n",
    "#             return int(float(x))\n",
    "\n",
    "        max_q = None\n",
    "        q_compare_dict = {}\n",
    "\n",
    "        if len(self.now_states) != self.num_features - 1:\n",
    "            raise ValueError(\"Got ya bastard! @ MaxQ\")\n",
    "\n",
    "        # Populate the q_dict\n",
    "        for act in set(self.valid_actions):\n",
    "            # added 1 more additional features to the feature set\n",
    "            self.now_states.append(act)\n",
    "            now_row_key = tuple(self.now_states)\n",
    "\n",
    "            _ = self.q_dict[now_row_key]\n",
    "\n",
    "            try:\n",
    "                self.q_reg\n",
    "            except AttributeError:\n",
    "                pass\n",
    "                # print('No q_reg yet...going with default.')\n",
    "            else:\n",
    "                if _[1] == 0:\n",
    "                    # print(\"Dreaming mode...\")                    \n",
    "                    single_X = np.array(now_row_key)\n",
    "                    # print(single_X)\n",
    "#                     arr_int = np.vectorize(str_float_int)\n",
    "                    single_X[-1] = transfer_action(single_X[-1])\n",
    "#                     single_X = arr_int(single_X)\n",
    "                    single_X = single_X.reshape(1, -1)\n",
    "                    pred_q = self.q_reg.predict(single_X)\n",
    "                    dreamed_q = (1 - (1 / (self.q_dict[now_row_key][1] + 1))) * self.q_dict[now_row_key][0] + (1 / (self.q_dict[now_row_key][1] + 1)) * pred_q[0]\n",
    "                    self.q_dict[now_row_key] = (dreamed_q, self.q_dict[now_row_key][1] + 1)\n",
    "\n",
    "            q_compare_dict[now_row_key] = self.q_dict[now_row_key]\n",
    "            self.now_states.pop()\n",
    "\n",
    "        try:\n",
    "            key, qAndT = max(q_compare_dict.items(), key=lambda x:x[1])\n",
    "        except ValueError:\n",
    "            print(\"Wrong Q Value in Q Compare Dict!\")\n",
    "            sys.exit(1)\n",
    "        else:\n",
    "            return key[-1], qAndT[0], qAndT[1]\n",
    "\n",
    "    def q_update(self):\n",
    "#         print(\"Updating Q table...\")\n",
    "        # prev_states.append(self.prev_yes_share)\n",
    "        self.prev_states.append(self.prev_action)\n",
    "        prev_states_key = tuple(self.prev_states)\n",
    "\n",
    "        if len(prev_states_key) != self.num_features - 1 + 1:\n",
    "            raise ValueError(\"Got ya bastard! @ Q_Update\")\n",
    "\n",
    "        q_temp = self.q_dict[prev_states_key]\n",
    "        q_temp0 = (1 - (1 / (q_temp[1] + 1))) * q_temp[0] + (1 / (q_temp[1] + 1)) * (self.reward + self.gamma * self.max_q()[1])\n",
    "\n",
    "        self.q_dict[prev_states_key] = (q_temp0, q_temp[1] + 1)\n",
    "        # For analysis purpose\n",
    "        self.q_dict_analysis[prev_states_key] = (q_temp0, self.prev_env_index)\n",
    "\n",
    "    def reset(self):\n",
    "#         print(\"Resetting...\")\n",
    "        # Portfolio change over iterations\n",
    "        self.asset_history_list.append(self.pv + self.cash)\n",
    "\n",
    "        self.iter_env = self.env.iterrows()\n",
    "        self.now_env_index, self.now_row = next(self.iter_env)\n",
    "#         self.now_row = 0 # Numpy option\n",
    "\n",
    "        self.cash = 1000\n",
    "        self.share = 0\n",
    "        self.pv = 0\n",
    "\n",
    "        # Delete all prevs\n",
    "        del self.prev_states\n",
    "        del self.prev_env_index        \n",
    "        del self.prev_cash\n",
    "        del self.prev_share\n",
    "        del self.prev_pv\n",
    "        del self.prev_action\n",
    "\n",
    "        if self.test_mode is True:\n",
    "            self.epsilon = 0\n",
    "        \n",
    "        else:\n",
    "            if self.epsilon - 1/self.random_rounds > 0.00001: # Epislon threshold: 0.01\n",
    "                self.epsilon = self.epsilon - 1/self.random_rounds\n",
    "            else:\n",
    "                self.epsilon = 0.00001 # Epislon threshold: 0.1\n",
    "                \n",
    "        self.reset_counter += 1\n",
    "\n",
    "        if self.reset_counter % self.random_rounds == 0:\n",
    "            self.update_q_model()\n",
    "\n",
    "        if np.abs(self.epsilon - 0.00001) > 0.000001:\n",
    "            self.action_list = []\n",
    "\n",
    "    def make_decision(self):\n",
    "        return self.max_q()[0]\n",
    "\n",
    "    def update(self, cost):\n",
    "        # Update state\n",
    "        self.now_states = list(self.now_row)\n",
    "        self.now_states.pop() # Remove Trade Price\n",
    "\n",
    "### Numpy option\n",
    "#         try:\n",
    "#             self.now_states = list(self.env_arr[self.now_row])\n",
    "#         except IndexError:\n",
    "#             print(\"End of data.\")\n",
    "#             sys.exit(1)\n",
    "#         self.now_states.pop() # Remove Trade Price\n",
    "\n",
    "        if len(self.now_states) != self.num_features - 1:\n",
    "            raise ValueError(\"Got ya bastard! @ Q_Update...something wrong with the self.now_row!!!\")\n",
    "\n",
    "        # Update Q-table using prevs\n",
    "        try:\n",
    "            self.prev_states\n",
    "        except AttributeError:\n",
    "            pass\n",
    "#             print(\"Running the first time...no prevs exist.\")\n",
    "        else:\n",
    "            self.hold(self.now_row[-1])\n",
    "            self.reward = ((self.cash - self.prev_cash) + (self.pv - self.prev_pv)) / (self.prev_cash + self.prev_pv)\n",
    "            self.q_update()\n",
    "\n",
    "        # All the prev stuff!\n",
    "        self.prev_states = copy(self.now_states)\n",
    "        self.prev_env_index = deepcopy(self.now_env_index)\n",
    "#         self.prev_env_index = self.env.index[self.now_row] # Numpy option\n",
    "        self.prev_cash = self.cash\n",
    "        self.prev_share = self.share\n",
    "        self.prev_pv = self.pv\n",
    "        \n",
    "        # Exploitation-exploration decisioning\n",
    "        self.decision = np.random.choice(2, p = [self.epsilon, 1 - self.epsilon]) # decide to go random or with the policy\n",
    "        # self.decision = 0 # Force random mode\n",
    "\n",
    "        # print(\"Random decision: {0}, Epislon: {1}\".format(self.decision, self.epsilon))\n",
    "        if self.decision == 0: # if zero, go random\n",
    "            action = random.choice(self.valid_actions)\n",
    "        else: # else go with the policy\n",
    "            action = self.make_decision()\n",
    "\n",
    "        # Execute action and get reward\n",
    "        if action == 'Buy':\n",
    "            # print(self.now_row)\n",
    "            self.buy(self.now_row[-1], cost)\n",
    "#             self.buy(self.env_arr[self.now_row][-1], cost) # Numpy option\n",
    "        elif action == 'Sell':\n",
    "            # print(self.now_row)\n",
    "            self.sell(self.now_row[-1], cost)\n",
    "#             self.sell(self.env_arr[self.now_row][-1], cost) # Numpy option\n",
    "        elif action == 'Hold':\n",
    "            # print(self.now_row)\n",
    "            self.hold(self.now_row[-1])\n",
    "#             self.hold(self.env_arr[self.now_row][-1]) # Numpy option\n",
    "        else:\n",
    "            raise ValueError(\"Invalid action man!\")\n",
    "        \n",
    "        self.prev_action = action\n",
    "        \n",
    "#         self.now_row += 1 # Numpy option\n",
    "\n",
    "        try:\n",
    "            self.now_env_index, self.now_row = next(self.iter_env)\n",
    "        except StopIteration:\n",
    "            pass\n",
    "\n",
    "    def simulate(self, cost=None):\n",
    "        start_time = time.time()\n",
    "\n",
    "        for i in range(self.random_rounds):\n",
    "            for l in range(len(self.env)):\n",
    "#             for l in range(len(self.env_arr)): # Numpy option\n",
    "                self.update(cost)\n",
    "            self.reset()\n",
    "            if (i + 1) % 500 == 0:\n",
    "                print(self.asset_history_list[-1])\n",
    "                print(\"Round {} finished\".format(i + 1))\n",
    "#             print(self.asset_history_list[-1])\n",
    "#             print(\"Round {} finished\".format(i + 1))\n",
    "        print(\"{0} rounds of simulation with cost = {1}, took {2} seconds\".format(self.random_rounds, cost, time.time() - start_time))\n",
    "        return self.asset_history_list, self.action_list"
   ]
  },
  {
   "cell_type": "code",
   "execution_count": null,
   "metadata": {
    "collapsed": true
   },
   "outputs": [],
   "source": [
    "from collections import defaultdict\n",
    "from copy import copy\n",
    "\n",
    "def chimp_simulate(data_full, target_data, num_iter, gamma, train_size, batch_size, random_state=0):\n",
    "    pv_history_list = []\n",
    "    action_lists = []\n",
    "    # Initiating data and the chimp\n",
    "    start_date = target_data.index[0]\n",
    "    end_date = target_data.index[-1]\n",
    "    \n",
    "    dfFull = data_full\n",
    "    date_range = target_data.index[:] # Using 7 months of data to predict one month\n",
    "    print(date_range)\n",
    "    \n",
    "    batch_count = 0\n",
    "        \n",
    "    cash = 1000\n",
    "    share = 0\n",
    "    pv = 0\n",
    "    now_yes_share = 0\n",
    "\n",
    "    for batch in range(len(target_data) // batch_size + 1):\n",
    "        \n",
    "#     for date in date_range:\n",
    "        batch_count += 1\n",
    "        print(\"Batch {}\".format(batch_count))\n",
    "\n",
    "        try:\n",
    "            dfTest = dfFull.ix[target_data.index[batch * batch_size]:target_data.index[batch * batch_size + batch_size - 1]]\n",
    "        except IndexError:\n",
    "            print(\"Last batch size unmatched...but may be fine!\")\n",
    "            try: \n",
    "                dfTest = dfFull.ix[target_data.index[batch * batch_size]:target_data.index[-1]]\n",
    "            except IndexError:\n",
    "                print(\"End of data\")\n",
    "                return (pv_history_list, action_lists)\n",
    "        \n",
    "        (u,) = dfFull.index.get_indexer_for([target_data.index[batch * batch_size]])\n",
    "\n",
    "        dfTrain = dfFull.iloc[u - (train_size):u]\n",
    "\n",
    "        chimp_train = ChimpBot(dfTrain, iter_random_rounds=num_iter, gamma=gamma, random_state=0)\n",
    "\n",
    "        for i in range(num_iter):\n",
    "            for l in range(len(chimp_train.env)):\n",
    "                # print(\"Train Round {0}-{1}\".format(i + 1, l + 1))\n",
    "                chimp_train.update('high')\n",
    "            chimp_train.reset()\n",
    "\n",
    "        # Test the Chimp!\n",
    "#         q_df = deepcopy(chimp_train.q_df)\n",
    "#         q_dict = deepcopy(chimp_train.q_dict)\n",
    "#         q_reg = deepcopy(chimp_train.q_reg)\n",
    "\n",
    "        try:\n",
    "            _ = chimp_test\n",
    "        except NameError:\n",
    "            print(\"First time running...\")\n",
    "                    \n",
    "#             now_yes_share = chimp_test.now_yes_share\n",
    "\n",
    "        chimp_test = ChimpBot(dfTest, iter_random_rounds=num_iter, gamma=gamma, random_state=0)\n",
    "        \n",
    "        chimp_test.q_df = deepcopy(chimp_train.q_df)\n",
    "        chimp_test.q_dict = deepcopy(chimp_train.q_dict)\n",
    "        chimp_test.q_reg = deepcopy(chimp_train.q_reg)\n",
    "        chimp_test.epsilon = 0\n",
    "\n",
    "        # Pass the cheatsheet to the next chimp\n",
    "        try:\n",
    "            chimp_test.cash = cash\n",
    "            chimp_test.share = share\n",
    "            chimp_test.pv = pv\n",
    "            \n",
    "            chimp_test.prev_states = prev_states\n",
    "#             chimp_test.now_action = now_action\n",
    "            chimp_test.prev_action = prev_action\n",
    "#             chimp_test.prev_yes_share = prev_yes_share\n",
    "            chimp_test.reward = reward\n",
    "            chimp_test.prev_cash = prev_cash\n",
    "            chimp_test.prev_share = prev_share\n",
    "            chimp_test.prev_pv = prev_pv\n",
    "            chimp_test.prev_env_index = prev_env_index\n",
    "\n",
    "        except UnboundLocalError:\n",
    "            print(\"No cheatsheet to pass over yet...no worries!\")\n",
    "\n",
    "        for l in range(len(chimp_test.env)):\n",
    "            # print(\"Train Round {0}-{1}\".format(i + 1, l + 1))\n",
    "            chimp_test.update(None)\n",
    "            action_lists.append(chimp_test.action_list)\n",
    "            pv_history_list.append(chimp_test.cash + chimp_test.pv)\n",
    "\n",
    "                \n",
    "        # Create cheatsheet for the next chimp\n",
    "        cash = chimp_test.cash\n",
    "        share = chimp_test.share\n",
    "        pv = chimp_test.pv\n",
    "            \n",
    "        prev_states = chimp_test.prev_states\n",
    "#         now_action = chimp_test.now_action\n",
    "        prev_action = chimp_test.prev_action\n",
    "#         prev_yes_share = chimp_test.prev_yes_share\n",
    "        prev_env_index = chimp_test.prev_env_index\n",
    "        reward = chimp_test.reward\n",
    "        prev_cash = chimp_test.prev_cash\n",
    "        prev_share = chimp_test.prev_share\n",
    "        prev_pv = chimp_test.prev_pv\n",
    "        \n",
    "        if (batch + 1) % 3 == 0:\n",
    "            print(pv_history_list)\n",
    "        \n",
    "    print(pv_history_list)\n",
    "    \n",
    "#     return (pv_history_list, action_lists)\n",
    "    return pv_history_list"
   ]
  },
  {
   "cell_type": "code",
   "execution_count": null,
   "metadata": {
    "collapsed": false
   },
   "outputs": [
    {
     "name": "stdout",
     "output_type": "stream",
     "text": [
      "DatetimeIndex(['2007-02-06', '2007-02-07', '2007-02-08', '2007-02-09',\n",
      "               '2007-02-12', '2007-02-13', '2007-02-14', '2007-02-26',\n",
      "               '2007-02-27', '2007-03-01',\n",
      "               ...\n",
      "               '2012-01-18', '2012-01-30', '2012-01-31', '2012-02-01',\n",
      "               '2012-02-02', '2012-02-03', '2012-02-06', '2012-02-07',\n",
      "               '2012-02-08', '2012-02-09'],\n",
      "              dtype='datetime64[ns]', length=1230, freq=None)\n",
      "Batch 1"
     ]
    }
   ],
   "source": [
    "validation_phase_data = stocks_converted[1216].ix[validation_start_date:validation_end_date]\n",
    "\n",
    "# start_time = time.time()\n",
    "result_list = chimp_simulate(data_full=stocks_converted[1216], target_data=validation_phase_data, num_iter=5000, gamma=0.75, train_size=21*35, batch_size=7, random_state=0)\n",
    "print(\"\\nSimulation for Test set took {} seconds.\".format(time.time() - start_time))"
   ]
  },
  {
   "cell_type": "code",
   "execution_count": null,
   "metadata": {
    "collapsed": true
   },
   "outputs": [],
   "source": []
  }
 ],
 "metadata": {
  "anaconda-cloud": {},
  "kernelspec": {
   "display_name": "Python [conda env:chimp]",
   "language": "python",
   "name": "conda-env-chimp-py"
  },
  "language_info": {
   "codemirror_mode": {
    "name": "ipython",
    "version": 3
   },
   "file_extension": ".py",
   "mimetype": "text/x-python",
   "name": "python",
   "nbconvert_exporter": "python",
   "pygments_lexer": "ipython3",
   "version": "3.5.2"
  }
 },
 "nbformat": 4,
 "nbformat_minor": 1
}
