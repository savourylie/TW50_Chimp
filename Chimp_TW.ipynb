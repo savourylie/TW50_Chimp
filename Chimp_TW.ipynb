{
 "cells": [
  {
   "cell_type": "code",
   "execution_count": 1,
   "metadata": {
    "collapsed": false
   },
   "outputs": [],
   "source": [
    "from yahoo_finance import Share\n",
    "from datetime import datetime, date\n",
    "import pandas as pd\n",
    "import numpy as np\n",
    "%matplotlib inline\n",
    "import matplotlib.pyplot as plt\n",
    "import seaborn as sns\n",
    "from IPython.display import display\n",
    "import pickle\n",
    "\n",
    "pd.set_option('display.max_columns', 50)\n",
    "\n",
    "\n",
    "def getStock(start_date, id):\n",
    "    \"\"\"\n",
    "    datetime format example: '2016-01-28'\n",
    "    \"\"\"\n",
    "    stock = Share(str(id)+'.TW')\n",
    "    today = date.today() #todays date\n",
    "    data = stock.get_historical(start_date, str(today))\n",
    "    return data"
   ]
  },
  {
   "cell_type": "code",
   "execution_count": 2,
   "metadata": {
    "collapsed": true
   },
   "outputs": [],
   "source": [
    "taiwan50_symbols = [1101, 1102, 1216, 1301, 1303, 1326, 1402, 1722, 2002, 2105, 2201, 2207, 2301, 2303, 2308, 2311, 2317,\n",
    "           2324, 2325, 2330, 2347, 2353, 2354, 2357, 2382, 2409, 2412, 2454, 2474, 2498, 2801, 2880, 2881, 2882, 2883,\n",
    "           2885, 2886, 2890, 2891, 2892, 2912, 3008, 3045, 3231, 3481, 3673, 3697, 4904, 5880, 6505]"
   ]
  },
  {
   "cell_type": "code",
   "execution_count": 3,
   "metadata": {
    "collapsed": false
   },
   "outputs": [
    {
     "data": {
      "text/plain": [
       "50"
      ]
     },
     "execution_count": 3,
     "metadata": {},
     "output_type": "execute_result"
    }
   ],
   "source": [
    "len(taiwan50_symbols)"
   ]
  },
  {
   "cell_type": "code",
   "execution_count": 4,
   "metadata": {
    "collapsed": true
   },
   "outputs": [],
   "source": [
    "def create_dataframe(data):\n",
    "    # Create df from data\n",
    "    df = pd.DataFrame(data)\n",
    "    # Set date as index\n",
    "    df = df.set_index('Date')\n",
    "    # Convert index str to datetime object\n",
    "    df.index = pd.to_datetime(df.index)\n",
    "    \n",
    "    # Create dfMain for reordering data\n",
    "    start_date = '2000-01-01'\n",
    "    end_date = '2017-03-03'\n",
    "    dates = pd.date_range(start_date, end_date)\n",
    "    dfMain = pd.DataFrame(index=dates)\n",
    "    dfMain = dfMain.join(df)\n",
    "    dfMain.dropna(inplace=True)\n",
    "    \n",
    "    # Convert str values to numeric\n",
    "    dfMain = dfMain.convert_objects(convert_numeric=True)\n",
    "    \n",
    "    # Drop suspension dates\n",
    "    dfMain.drop(dfMain[dfMain['Volume'] == 0].index, inplace=True)\n",
    "    \n",
    "    # Drop data anomoly based on volume\n",
    "    mean = dfMain['Volume'].mean()\n",
    "    std = dfMain['Volume'].std()\n",
    "    dfMain.drop(dfMain[dfMain['Volume'] - mean > 5 * std].index, inplace=True)\n",
    "    # Drop Symbol Column\n",
    "    del dfMain['Symbol']\n",
    "    \n",
    "    return dfMain"
   ]
  },
  {
   "cell_type": "code",
   "execution_count": 152,
   "metadata": {
    "collapsed": false
   },
   "outputs": [
    {
     "name": "stderr",
     "output_type": "stream",
     "text": [
      "/home/calvinjku/anaconda3/envs/chimp/lib/python3.5/site-packages/ipykernel/__main__.py:18: FutureWarning: convert_objects is deprecated.  Use the data-type specific converters pd.to_datetime, pd.to_timedelta and pd.to_numeric.\n"
     ]
    },
    {
     "name": "stdout",
     "output_type": "stream",
     "text": [
      "Error symbol: 2409\n",
      "Error symbol: 2412\n",
      "Error symbol: 2454\n",
      "Error symbol: 2498\n",
      "Error symbol: 2880\n",
      "Error symbol: 2881\n",
      "Error symbol: 2883\n",
      "Error symbol: 2891\n",
      "Error symbol: 2892\n",
      "Error symbol: 3008\n",
      "Error symbol: 3045\n",
      "Error symbol: 3231\n",
      "Error symbol: 3481\n",
      "Error symbol: 3673\n",
      "Error symbol: 3697\n",
      "Error symbol: 4904\n",
      "Error symbol: 5880\n",
      "Error symbol: 6505\n"
     ]
    }
   ],
   "source": [
    "# # Download and create Taiwan 50 dataframes\n",
    "# taiwan50 = {}\n",
    "\n",
    "# for symbol in taiwan50_symbols:\n",
    "#     try:\n",
    "#         data_temp = getStock('2000-01-01', symbol)\n",
    "#     except (KeyboardInterrupt, SystemExit):\n",
    "#         raise\n",
    "#     except:\n",
    "#         print(\"Error symbol: {}\".format(symbol))\n",
    "#     else:\n",
    "#         taiwan50[symbol] = create_dataframe(data_temp)"
   ]
  },
  {
   "cell_type": "code",
   "execution_count": 153,
   "metadata": {
    "collapsed": false
   },
   "outputs": [
    {
     "data": {
      "text/plain": [
       "32"
      ]
     },
     "execution_count": 153,
     "metadata": {},
     "output_type": "execute_result"
    }
   ],
   "source": [
    "# len(taiwan50)"
   ]
  },
  {
   "cell_type": "code",
   "execution_count": 157,
   "metadata": {
    "collapsed": false
   },
   "outputs": [
    {
     "name": "stdout",
     "output_type": "stream",
     "text": [
      "dict_keys([1216, 2882, 2308, 2885, 2886, 2311, 2890, 1101, 1102, 2317, 2002, 2324, 2325, 1303, 2201, 2330, 1402, 2207, 2912, 2801, 2474, 2347, 1326, 2353, 2354, 2382, 2357, 2105, 1722, 2303, 2301, 1301])\n"
     ]
    }
   ],
   "source": [
    "# print(taiwan50.keys())"
   ]
  },
  {
   "cell_type": "code",
   "execution_count": 156,
   "metadata": {
    "collapsed": false
   },
   "outputs": [],
   "source": [
    "# for key in taiwan50:\n",
    "#     taiwan50[key].to_csv('./data/' + str(key) + '.csv')"
   ]
  },
  {
   "cell_type": "code",
   "execution_count": 28,
   "metadata": {
    "collapsed": false
   },
   "outputs": [],
   "source": [
    "import glob\n",
    "\n",
    "taiwan50 = {}\n",
    "\n",
    "taiwan50_filenames = glob.glob('./data/*.csv')\n",
    "\n",
    "for filename in taiwan50_filenames:\n",
    "    taiwan50[int(filename[-8:-4])] = pd.DataFrame.from_csv(filename)"
   ]
  },
  {
   "cell_type": "code",
   "execution_count": 29,
   "metadata": {
    "collapsed": false
   },
   "outputs": [],
   "source": [
    "good_data_symbols = [1216, 2308, 2311, 2890, 1101, 1102, 2317, 2002, 2324, 2325, 1303, 2201, 2330, 1402, 2207, \n",
    "                     2912, 2801, 2474, 2347, 1326, 2353, 2354, 2382, 2357, 1722, 2303, 2301, 1301]"
   ]
  },
  {
   "cell_type": "code",
   "execution_count": 30,
   "metadata": {
    "collapsed": true
   },
   "outputs": [],
   "source": [
    "stocks = {key: taiwan50[key] for key in good_data_symbols}"
   ]
  },
  {
   "cell_type": "code",
   "execution_count": 31,
   "metadata": {
    "collapsed": true
   },
   "outputs": [],
   "source": [
    "def adjust_prices(dfMain):\n",
    "    # Adjust Open, High, Low, Volume\n",
    "    dfMain['Adj Factor'] = dfMain['Adj_Close'] / dfMain['Close']\n",
    "\n",
    "    dfMain['Open'] = dfMain['Open'] * dfMain['Adj Factor']\n",
    "    dfMain['High'] = dfMain['High'] * dfMain['Adj Factor']\n",
    "    dfMain['Low'] = dfMain['Low'] * dfMain['Adj Factor']\n",
    "    dfMain['Volume'] = dfMain['Volume'] / dfMain['Adj Factor']\n",
    "\n",
    "    dfMain.drop(['Adj Factor'], axis=1, inplace=True)\n",
    "    \n",
    "    return dfMain"
   ]
  },
  {
   "cell_type": "code",
   "execution_count": 32,
   "metadata": {
    "collapsed": true
   },
   "outputs": [],
   "source": [
    "def add_past_prices(dfMain):\n",
    "    # Price Engineering\n",
    "    # Get opens\n",
    "    period_list = [1, 2, 3, 4, 5, 10, 21, 63, 100]\n",
    "    for x in period_list:\n",
    "        dfMain['-' + str(x) + 'd_Open'] = dfMain['Open'].shift(x)\n",
    "\n",
    "    # Get adjCloses\n",
    "    period_list = range(1, 5 + 1)\n",
    "    for x in period_list:\n",
    "        dfMain['-' + str(x) + 'd_adjClose'] = dfMain['Adj_Close'].shift(x)\n",
    "\n",
    "    # Get highs\n",
    "    period_list1 = range(1, 5 + 1)\n",
    "    for x in period_list1:\n",
    "        dfMain['-' + str(x) + 'd_High'] = dfMain['High'].shift(x)\n",
    "\n",
    "    period_list2 = [10, 21, 63, 100]\n",
    "    for x in period_list2:\n",
    "        dfMain[str(x) + 'd_High'] = dfMain['High'].shift().rolling(window=x).max()\n",
    "\n",
    "    # Get lows\n",
    "    period_list1 = range(1, 5 + 1)\n",
    "    for x in period_list1:\n",
    "        dfMain['-' + str(x) + 'd_Low'] = dfMain['Low'].shift(x)\n",
    "\n",
    "    period_list2 = [10, 21, 63, 100]\n",
    "    for x in period_list2:\n",
    "        dfMain[str(x) + 'd_Low'] = dfMain['High'].shift().rolling(window=x).min()\n",
    "    \n",
    "    return dfMain"
   ]
  },
  {
   "cell_type": "code",
   "execution_count": 33,
   "metadata": {
    "collapsed": true
   },
   "outputs": [],
   "source": [
    "def get_bases(dfMain):\n",
    "    # Get Volume Bases\n",
    "    dfMain['100d_Avg_Vol'] = dfMain['Volume'].shift().rolling(window=100).mean() * 1.5\n",
    "    dfMain['100d_Max_Vol'] = dfMain['Volume'].shift().rolling(window=100).max()\n",
    "\n",
    "    # Get Spread Bases\n",
    "    dfMain['Abs_Spread'] = np.abs(dfMain['Adj_Close'] - dfMain['Open'])\n",
    "    dfMain['Abs_Spread_Shift1'] = dfMain['Abs_Spread'].shift()\n",
    "    dfMain['100d_Avg_Spread'] = dfMain['Abs_Spread_Shift1'].rolling(window=100).mean() * 1.5\n",
    "    dfMain['100d_Max_Spread'] = dfMain['100d_High'] - dfMain['100d_Low']\n",
    "\n",
    "    dfMain.drop(['Abs_Spread_Shift1', 'Abs_Spread'], axis=1, inplace=True)\n",
    "    \n",
    "    return dfMain"
   ]
  },
  {
   "cell_type": "code",
   "execution_count": 34,
   "metadata": {
    "collapsed": true
   },
   "outputs": [],
   "source": [
    "def relative_transform(num):\n",
    "    if 0 <= num < 0.25:\n",
    "        return 1\n",
    "    elif 0.25 <= num < 0.5:\n",
    "        return 2\n",
    "    elif 0.5 <= num < 0.75:\n",
    "        return 3\n",
    "    elif 0.75 <= num < 1:\n",
    "        return 4\n",
    "    elif 1 <= num:\n",
    "        return 5\n",
    "    elif -0.25 <= num < 0:\n",
    "        return -1\n",
    "    elif -0.5 <= num < -0.25:\n",
    "        return -2\n",
    "    elif -0.75 <= num < -0.5:\n",
    "        return -3\n",
    "    elif -1 <= num < -0.75:\n",
    "        return -4\n",
    "    elif num < -1:\n",
    "        return -5\n",
    "    else:\n",
    "        num"
   ]
  },
  {
   "cell_type": "code",
   "execution_count": 35,
   "metadata": {
    "collapsed": true
   },
   "outputs": [],
   "source": [
    "def get_volumes(dfMain):\n",
    "    # Volume Engineering\n",
    "    # Get volumes\n",
    "    period_list = range(1, 5 + 1)\n",
    "    for x in period_list:\n",
    "        dfMain['-' + str(x) + 'd_Vol'] = dfMain['Volume'].shift(x)\n",
    "\n",
    "    # Get avg. volumes\n",
    "    period_list = [10, 21, 63]\n",
    "    for x in period_list:\n",
    "        dfMain[str(x) + 'd_Avg_Vol'] = dfMain['Volume'].shift().rolling(window=x).mean()\n",
    "\n",
    "    # Get relative volumes 1\n",
    "    period_list = range(1, 5 + 1)\n",
    "    for x in period_list:\n",
    "        dfMain['-' + str(x) + 'd_Vol1'] = dfMain['-' + str(x) + 'd_Vol'] / dfMain['100d_Avg_Vol']\n",
    "        dfMain['-' + str(x) + 'd_Vol1'] = dfMain['-' + str(x) + 'd_Vol1'].apply(relative_transform)\n",
    "\n",
    "    # Get relative avg. volumes 1\n",
    "    period_list = [10, 21, 63]\n",
    "    for x in period_list:\n",
    "        dfMain[str(x) + 'd_Avg_Vol1'] = dfMain[str(x) + 'd_Avg_Vol'] / dfMain['100d_Avg_Vol']\n",
    "        dfMain[str(x) + 'd_Avg_Vol1'] = dfMain[str(x) + 'd_Avg_Vol1'].apply(relative_transform)\n",
    "\n",
    "    # Get relative volumes 2\n",
    "    period_list = range(1, 5 + 1)\n",
    "    for x in period_list:\n",
    "        dfMain['-' + str(x) + 'd_Vol2'] = dfMain['-' + str(x) + 'd_Vol'] / dfMain['100d_Max_Vol']\n",
    "        dfMain['-' + str(x) + 'd_Vol2'] = dfMain['-' + str(x) + 'd_Vol2'].apply(relative_transform)\n",
    "    \n",
    "    return dfMain"
   ]
  },
  {
   "cell_type": "code",
   "execution_count": 36,
   "metadata": {
    "collapsed": true
   },
   "outputs": [],
   "source": [
    "def get_spreads(dfMain):\n",
    "    # Spread Engineering\n",
    "    # Get spread\n",
    "    period_list1 = range(1, 5 + 1)\n",
    "    period_list2 = [10, 21, 63]\n",
    "\n",
    "    for x in period_list1:\n",
    "        dfMain['-' + str(x) + 'd_Spread'] = dfMain['-' + str(x) + 'd_adjClose'] - dfMain['-' + str(x) + 'd_Open']    \n",
    "\n",
    "    for x in period_list2:\n",
    "        dfMain[str(x) + 'd_Spread'] = dfMain['-1d_adjClose'] - dfMain['-' + str(x) + 'd_Open']\n",
    "\n",
    "    # Get relative spread\n",
    "    period_list1 = range(1, 5 + 1)\n",
    "    period_list2 = [10, 21, 63]\n",
    "\n",
    "    for x in period_list1:\n",
    "        dfMain['-' + str(x) + 'd_Spread'] = dfMain['-' + str(x) + 'd_Spread'] / dfMain['100d_Avg_Spread']\n",
    "        dfMain['-' + str(x) + 'd_Spread'] = dfMain['-' + str(x) + 'd_Spread'].apply(relative_transform)\n",
    "\n",
    "    for x in period_list2:\n",
    "        dfMain[str(x) + 'd_Spread'] = dfMain[str(x) + 'd_Spread'] / dfMain['100d_Max_Spread']\n",
    "        dfMain[str(x) + 'd_Spread'] = dfMain[str(x) + 'd_Spread'].apply(relative_transform)\n",
    "\n",
    "    return dfMain"
   ]
  },
  {
   "cell_type": "code",
   "execution_count": 37,
   "metadata": {
    "collapsed": true
   },
   "outputs": [],
   "source": [
    "def upperwick(open, adj_close, high):\n",
    "    if high > open and high > adj_close:\n",
    "        return True\n",
    "    else:\n",
    "        return False\n",
    "def lowerwick(open, adj_close, low):\n",
    "    if low < open and low < adj_close:\n",
    "        return True\n",
    "    else:\n",
    "        return False"
   ]
  },
  {
   "cell_type": "code",
   "execution_count": 38,
   "metadata": {
    "collapsed": true
   },
   "outputs": [],
   "source": [
    "def get_wicks(dfMain):\n",
    "    period_list1 = range(1, 5 + 1)\n",
    "    period_list2 = [10, 21, 63, 100]\n",
    "    for x in period_list1:\n",
    "        dfMain.ix[:, '-' + str(x) + 'd_upperwick_bool'] = dfMain.apply(lambda row: upperwick(row['-' + str(x) + 'd_Open'], row['-' + str(x) + 'd_adjClose'], row['-' + str(x) + 'd_High']), axis=1)\n",
    "        dfMain.ix[:, '-' + str(x) + 'd_lowerwick_bool'] = dfMain.apply(lambda row: lowerwick(row['-' + str(x) + 'd_Open'], row['-' + str(x) + 'd_adjClose'], row['-' + str(x) + 'd_Low']), axis=1)\n",
    "\n",
    "    for x in period_list2:\n",
    "        dfMain.ix[:, str(x) + 'd_upperwick_bool'] = dfMain.apply(lambda row: upperwick(row['-' + str(x) + 'd_Open'], row['-1d_adjClose'], row[str(x) + 'd_High']), axis=1)\n",
    "        dfMain.ix[:, str(x) + 'd_lowerwick_bool'] = dfMain.apply(lambda row: lowerwick(row['-' + str(x) + 'd_Open'], row['-1d_adjClose'], row[str(x) + 'd_Low']), axis=1)\n",
    "\n",
    "    return dfMain"
   ]
  },
  {
   "cell_type": "code",
   "execution_count": 39,
   "metadata": {
    "collapsed": true
   },
   "outputs": [],
   "source": [
    "def get_upperwick_length(open, adj_close, high):\n",
    "    return high - max(open, adj_close)\n",
    "\n",
    "def get_lowerwick_length(open, adj_close, low):\n",
    "    return min(open, adj_close) - low"
   ]
  },
  {
   "cell_type": "code",
   "execution_count": 40,
   "metadata": {
    "collapsed": true
   },
   "outputs": [],
   "source": [
    "def wick_transform(dfMain):\n",
    "    period_list1 = range(1, 5 + 1)\n",
    "    period_list2 = [10, 21, 63]\n",
    "\n",
    "    for x in period_list1:\n",
    "        has_upperwicks = dfMain['-' + str(x) + 'd_upperwick_bool']\n",
    "        has_lowerwicks = dfMain['-' + str(x) + 'd_lowerwick_bool']\n",
    "\n",
    "        dfMain.loc[has_upperwicks, '-' + str(x) + 'd_upperwick'] = dfMain.loc[has_upperwicks, :].apply(lambda row: get_upperwick_length(row['-' + str(x) + 'd_Open'], row['-' + str(x) + 'd_adjClose'], row['-' + str(x) + 'd_High']), axis=1)\n",
    "        dfMain.loc[has_lowerwicks, '-' + str(x) + 'd_lowerwick'] = dfMain.loc[has_lowerwicks, :].apply(lambda row: get_lowerwick_length(row['-' + str(x) + 'd_Open'], row['-' + str(x) + 'd_adjClose'], row['-' + str(x) + 'd_Low']), axis=1)\n",
    "\n",
    "        # Get relative upperwick length\n",
    "        dfMain.loc[dfMain['-' + str(x) + 'd_upperwick_bool'], '-' + str(x) + 'd_upperwick'] = dfMain.loc[dfMain['-' + str(x) + 'd_upperwick_bool'], '-' + str(x) + 'd_upperwick'] / dfMain.loc[dfMain['-' + str(x) + 'd_upperwick_bool'], '100d_Avg_Spread']\n",
    "        # Get relative lowerwick length\n",
    "        dfMain.loc[dfMain['-' + str(x) + 'd_lowerwick_bool'], '-' + str(x) + 'd_lowerwick'] = dfMain.loc[dfMain['-' + str(x) + 'd_lowerwick_bool'], '-' + str(x) + 'd_lowerwick'] / dfMain.loc[dfMain['-' + str(x) + 'd_lowerwick_bool'], '100d_Avg_Spread']\n",
    "\n",
    "        # Transform upperwick ratio to int\n",
    "        dfMain.loc[dfMain['-' + str(x) + 'd_upperwick_bool'], '-' + str(x) + 'd_upperwick'] = dfMain.loc[dfMain['-' + str(x) + 'd_upperwick_bool'], '-' + str(x) + 'd_upperwick'].apply(relative_transform)\n",
    "        # Transform lowerwick ratio to int\n",
    "        dfMain.loc[dfMain['-' + str(x) + 'd_lowerwick_bool'], '-' + str(x) + 'd_lowerwick'] = dfMain.loc[dfMain['-' + str(x) + 'd_lowerwick_bool'], '-' + str(x) + 'd_lowerwick'].apply(relative_transform)\n",
    "\n",
    "        # Assign 0 to no-upperwick days\n",
    "        dfMain.loc[np.logical_not(dfMain['-' + str(x) + 'd_upperwick_bool']), '-' + str(x) + 'd_upperwick'] = 0\n",
    "        # Assign 0 to no-lowerwick days\n",
    "        dfMain.loc[np.logical_not(dfMain['-' + str(x) + 'd_lowerwick_bool']), '-' + str(x) + 'd_lowerwick'] = 0\n",
    "\n",
    "    for x in period_list2:\n",
    "        has_upperwicks = dfMain[str(x) + 'd_upperwick_bool']\n",
    "        has_lowerwicks = dfMain[str(x) + 'd_lowerwick_bool']\n",
    "\n",
    "        dfMain.loc[has_upperwicks, str(x) + 'd_upperwick'] = dfMain.loc[has_upperwicks, :].apply(lambda row: get_upperwick_length(row['-' + str(x) + 'd_Open'], row['-1d_adjClose'], row[str(x) + 'd_High']), axis=1)\n",
    "        dfMain.loc[has_lowerwicks, str(x) + 'd_lowerwick'] = dfMain.loc[has_lowerwicks, :].apply(lambda row: get_lowerwick_length(row['-' + str(x) + 'd_Open'], row['-1d_adjClose'], row[str(x) + 'd_Low']), axis=1)\n",
    "\n",
    "        # Get relative upperwick length\n",
    "        dfMain.loc[dfMain[str(x) + 'd_upperwick_bool'], str(x) + 'd_upperwick'] = dfMain.loc[dfMain[str(x) + 'd_upperwick_bool'], str(x) + 'd_upperwick'] / dfMain.loc[dfMain[str(x) + 'd_upperwick_bool'], '100d_Avg_Spread']\n",
    "        # Get relative lowerwick length\n",
    "        dfMain.loc[dfMain[str(x) + 'd_lowerwick_bool'], str(x) + 'd_lowerwick'] = dfMain.loc[dfMain[str(x) + 'd_lowerwick_bool'], str(x) + 'd_lowerwick'] / dfMain.loc[dfMain[str(x) + 'd_lowerwick_bool'], '100d_Avg_Spread']\n",
    "\n",
    "        # Transform upperwick ratio to int\n",
    "        dfMain.loc[dfMain[str(x) + 'd_upperwick_bool'], str(x) + 'd_upperwick'] = dfMain.loc[dfMain[str(x) + 'd_upperwick_bool'], str(x) + 'd_upperwick'].apply(relative_transform)\n",
    "        # Transform lowerwick ratio to int\n",
    "        dfMain.loc[dfMain[str(x) + 'd_lowerwick_bool'], str(x) + 'd_lowerwick'] = dfMain.loc[dfMain[str(x) + 'd_lowerwick_bool'], str(x) + 'd_lowerwick'].apply(relative_transform)\n",
    "\n",
    "        # Assign 0 to no-upperwick days\n",
    "        dfMain.loc[np.logical_not(dfMain[str(x) + 'd_upperwick_bool']), str(x) + 'd_upperwick'] = 0\n",
    "        # Assign 0 to no-lowerwick days\n",
    "        dfMain.loc[np.logical_not(dfMain[str(x) + 'd_lowerwick_bool']), str(x) + 'd_lowerwick'] = 0\n",
    "        \n",
    "    return dfMain"
   ]
  },
  {
   "cell_type": "code",
   "execution_count": 41,
   "metadata": {
    "collapsed": true
   },
   "outputs": [],
   "source": [
    "def get_trade_price(dfMain):\n",
    "    dfMain['Trade Price'] = dfMain['Adj_Close']\n",
    "    \n",
    "    return dfMain"
   ]
  },
  {
   "cell_type": "code",
   "execution_count": 42,
   "metadata": {
    "collapsed": true
   },
   "outputs": [],
   "source": [
    "def drop_redundant_cols(dfMain):\n",
    "    dfMain.drop(['Open', 'High', 'Low', 'Close', 'Adj_Close', 'Volume', \\\n",
    "             '-1d_Vol', '-2d_Vol', '-3d_Vol', '-4d_Vol', '-5d_Vol', '10d_Avg_Vol', '21d_Avg_Vol', '63d_Avg_Vol', \\\n",
    "             '-1d_Open', '-2d_Open', '-3d_Open', '-4d_Open', '-5d_Open', '-10d_Open', '-21d_Open', '-63d_Open', '-100d_Open',  \\\n",
    "             '-1d_adjClose', '-2d_adjClose', '-3d_adjClose', '-4d_adjClose', '-5d_adjClose', \\\n",
    "             '-1d_High', '-2d_High', '-3d_High', '-4d_High', '-5d_High', '10d_High', '21d_High', '63d_High', '100d_High',  \\\n",
    "             '-1d_Low', '-2d_Low', '-3d_Low', '-4d_Low', '-5d_Low', '10d_Low', '21d_Low', '63d_Low', '100d_Low',  \\\n",
    "             '100d_Avg_Vol', '100d_Max_Vol', '100d_Avg_Spread', '100d_Max_Spread', \\\n",
    "             '-1d_upperwick_bool', '-2d_upperwick_bool', '-3d_upperwick_bool', '-4d_upperwick_bool', '-5d_upperwick_bool', '10d_upperwick_bool', '21d_upperwick_bool', '63d_upperwick_bool', '100d_upperwick_bool', \\\n",
    "             '-1d_lowerwick_bool', '-2d_lowerwick_bool', '-3d_lowerwick_bool', '-4d_lowerwick_bool', '-5d_lowerwick_bool', '10d_lowerwick_bool', '21d_lowerwick_bool', '63d_lowerwick_bool', '100d_lowerwick_bool'], \\\n",
    "            axis=1, inplace=True)\n",
    "    \n",
    "    return dfMain"
   ]
  },
  {
   "cell_type": "code",
   "execution_count": 43,
   "metadata": {
    "collapsed": true
   },
   "outputs": [],
   "source": [
    "def drop_na_rows(dfMain):\n",
    "    dfMain.dropna(inplace=True)\n",
    "    \n",
    "    return dfMain"
   ]
  },
  {
   "cell_type": "code",
   "execution_count": 44,
   "metadata": {
    "collapsed": true
   },
   "outputs": [],
   "source": [
    "def preprocess_pipeline(dfMain):\n",
    "    dfMain = adjust_prices(dfMain)\n",
    "    dfMain = add_past_prices(dfMain)\n",
    "    dfMain = get_bases(dfMain)\n",
    "    dfMain = get_volumes(dfMain)\n",
    "    dfMain = get_spreads(dfMain)\n",
    "    dfMain = get_wicks(dfMain)\n",
    "    dfMain = wick_transform(dfMain)\n",
    "    dfMain = get_trade_price(dfMain)\n",
    "    dfMain = drop_redundant_cols(dfMain)\n",
    "    dfMain = drop_na_rows(dfMain)\n",
    "    \n",
    "    return dfMain"
   ]
  },
  {
   "cell_type": "code",
   "execution_count": 45,
   "metadata": {
    "collapsed": false
   },
   "outputs": [],
   "source": [
    "stocks_converted = {key: preprocess_pipeline(stocks[key]) for key in stocks}"
   ]
  },
  {
   "cell_type": "code",
   "execution_count": 46,
   "metadata": {
    "collapsed": true
   },
   "outputs": [],
   "source": [
    "# with open('stocks_converted.pickle', 'wb') as handle:\n",
    "#     pickle.dump(stocks_converted, handle, protocol=pickle.HIGHEST_PROTOCOL)"
   ]
  },
  {
   "cell_type": "code",
   "execution_count": 2,
   "metadata": {
    "collapsed": false
   },
   "outputs": [],
   "source": [
    "with open('stocks_converted.pickle', 'rb') as handle:\n",
    "    stocks_converted = pickle.load(handle)"
   ]
  },
  {
   "cell_type": "code",
   "execution_count": 3,
   "metadata": {
    "collapsed": false
   },
   "outputs": [
    {
     "data": {
      "text/plain": [
       "dict_keys([1216, 2308, 2311, 2890, 1101, 1102, 2317, 2002, 2324, 2325, 1303, 2201, 2330, 1722, 2207, 2912, 1301, 2801, 2474, 2347, 1326, 2353, 2354, 2382, 2357, 1402, 2301, 2303])"
      ]
     },
     "execution_count": 3,
     "metadata": {},
     "output_type": "execute_result"
    }
   ],
   "source": [
    "stocks_converted.keys()"
   ]
  },
  {
   "cell_type": "code",
   "execution_count": 4,
   "metadata": {
    "collapsed": false
   },
   "outputs": [],
   "source": [
    "num_stocks = len(stocks_converted)\n",
    "init_money = 1000 * num_stocks\n",
    "\n",
    "val_profit_list = []\n",
    "test_profit_list = []\n",
    "\n",
    "val_start_index = -10*246\n",
    "val_end_index = -5*246-1\n",
    "test_start_index = -5*246\n",
    "test_end_index = -1\n",
    "\n",
    "for key in stocks_converted:\n",
    "    val_start_price = stocks_converted[key].iloc[val_start_index, -1]\n",
    "    val_end_price = stocks_converted[key].iloc[val_end_index, -1]\n",
    "    \n",
    "    val_num_share = 1000 // val_start_price\n",
    "    val_cash_start = 1000 - val_num_share * val_start_price\n",
    "    val_profit = val_num_share * val_end_price + val_cash_start\n",
    "    val_profit_list.append(val_profit)\n",
    "    \n",
    "    test_start_price = stocks_converted[key].iloc[test_start_index, -1]\n",
    "    test_end_price = stocks_converted[key].iloc[test_end_index, -1]\n",
    "    \n",
    "    test_num_share = 1000 // test_start_price\n",
    "    test_cash_start = 1000 - test_num_share * test_start_price\n",
    "    test_profit = test_num_share * test_end_price + test_cash_start    \n",
    "    test_profit_list.append(test_profit)\n",
    "\n",
    "val_profit_sum = np.sum(val_profit_list)\n",
    "test_profit_sum = np.sum(test_profit_list)"
   ]
  },
  {
   "cell_type": "code",
   "execution_count": 5,
   "metadata": {
    "collapsed": false
   },
   "outputs": [
    {
     "name": "stdout",
     "output_type": "stream",
     "text": [
      "Initial asset: 28000\n",
      "PT profit (Val dataset): 39467.63867000001 (ROI: 7.11%)\n",
      "PT profit (Test dataset): 38057.873629999995 (ROI: 6.33%)\n"
     ]
    }
   ],
   "source": [
    "def ROI(start_asset, end_asset, num_year):\n",
    "    return round((np.exp(np.log(end_asset / start_asset) / num_year) - 1) * 100, 2)\n",
    "\n",
    "print(\"Initial asset: {}\".format(init_money))\n",
    "print(\"PT profit (Val dataset): {0} (ROI: {1}%)\".format(val_profit_sum, ROI(init_money, val_profit_sum, 5)))\n",
    "print(\"PT profit (Test dataset): {0} (ROI: {1}%)\".format(test_profit_sum, ROI(init_money, test_profit_sum, 5)))"
   ]
  },
  {
   "cell_type": "code",
   "execution_count": 6,
   "metadata": {
    "collapsed": true
   },
   "outputs": [],
   "source": [
    "validation_start_date = stocks_converted[1216].index[val_start_index]\n",
    "validation_end_date = stocks_converted[1216].index[val_end_index]\n",
    "test_start_date = stocks_converted[1216].index[test_start_index]\n",
    "test_end_date = stocks_converted[1216].index[test_end_index]\n",
    "\n",
    "# print(\"Validation phase\")\n",
    "# print(\"{0} Trade Price: {1}\".format(validation_start_date, data_full.ix[validation_start_date, 'Trade Price']))\n",
    "# print(\"{0} Trade Price: {1}\".format(validation_end_date, data_full.ix[validation_end_date, 'Trade Price']))\n",
    "# validation_phase_data = data_full.ix[validation_start_date:validation_end_date, :]\n",
    "# print(\"Number of dates in validation dataset: {}\\n\".format(len(validation_phase_data)))\n",
    "\n",
    "# print(\"Test phase\")\n",
    "# print(\"{0} Trade Price: {1}\".format(test_start_date, data_full.ix[test_start_date, 'Trade Price']))\n",
    "# print(\"{0} Trade Price: {1}\".format(test_end_date, data_full.ix[test_end_date, 'Trade Price']))\n",
    "# test_phase_data = data_full.ix[test_start_date:test_end_date, :]\n",
    "# print(\"Number of dates in test dataset: {}\".format(len(test_phase_data)))"
   ]
  },
  {
   "cell_type": "code",
   "execution_count": 7,
   "metadata": {
    "collapsed": true
   },
   "outputs": [],
   "source": [
    "import random\n",
    "import time\n",
    "from copy import deepcopy\n",
    "\n",
    "class MonkeyBot(object):\n",
    "    def __init__(self, dfEnv, cash=1000, share=0, pv=0, random_state=0):\n",
    "        random.seed(random_state)\n",
    "        np.random.seed(random_state)\n",
    "        \n",
    "        self.cash = cash\n",
    "        self.share = share\n",
    "        self.pv = pv\n",
    "        self.asset_history_list = []\n",
    "        self.action_list = []\n",
    "        \n",
    "        self.env = deepcopy(dfEnv)\n",
    "\n",
    "    def buy(self, stock_price, cost, fold=1):\n",
    "        if self.cash < stock_price:\n",
    "            self.hold(stock_price)\n",
    "            \n",
    "        else:\n",
    "            num_affordable = int(self.cash // stock_price)\n",
    "            buy_amount = int(num_affordable // fold)\n",
    "            self.cash = self.cash - stock_price * buy_amount\n",
    "            self.share = self.share + buy_amount\n",
    "            self.pv = stock_price * self.share\n",
    "\n",
    "             # Adding transaction cost\n",
    "            self.trading_cost(buy_amount, cost)\n",
    "            \n",
    "        # Append action to action list\n",
    "        self.action_list.append('Buy')\n",
    "\n",
    "    def sell(self, stock_price, cost, fold=1):\n",
    "        if self.share == 0:\n",
    "            self.hold(stock_price)\n",
    "            \n",
    "        else:\n",
    "            sell_amount = int(self.share // fold)\n",
    "            self.cash = self.cash + stock_price * sell_amount\n",
    "            self.pv = 0\n",
    "            self.share = 0\n",
    "\n",
    "            # Adding transaction cost\n",
    "            self.trading_cost(sell_amount, cost)\n",
    "            \n",
    "        self.action_list.append('Sell')\n",
    "\n",
    "    def hold(self, stock_price):\n",
    "        self.pv = stock_price * self.share\n",
    "\n",
    "    def trading_cost(self, trading_amount, cost):\n",
    "            if cost is None:\n",
    "                pass                \n",
    "            elif cost == 'low':\n",
    "                if trading_amount * 0.01 < 1.99:\n",
    "                    self.cash = self.cash - 1.99\n",
    "                else:\n",
    "                    self.cash = self.cash - trading_amount * 0.01\n",
    "            elif cost == 'medium':\n",
    "                if trading_amount * 0.01 < 5:\n",
    "                    self.cash = self.cash - 5\n",
    "                else:\n",
    "                    self.cash = self.cash - trading_amount * 0.01\n",
    "            elif cost == 'high':\n",
    "                if trading_amount * 0.01 < 7:\n",
    "                    self.cash = self.cash - 7\n",
    "                else:\n",
    "                    self.cash = self.cash - trading_amount * 0.01\n",
    "            else:\n",
    "                raise ValueError(\"Invalid cost parameter!\")\n",
    "        \n",
    "    def reset(self):\n",
    "        self.cash = 1000\n",
    "        self.share = 0\n",
    "        self.pv = 0\n",
    "\n",
    "    def make_decision(self, x, cost):\n",
    "        random_choice = random.choice([1, 2])\n",
    "\n",
    "        if random_choice == 0:\n",
    "            self.hold(x)\n",
    "        elif random_choice == 1:\n",
    "            self.buy(x, cost)\n",
    "        elif random_choice == 2:\n",
    "            self.sell(x, cost)\n",
    "        else:\n",
    "            raise ValueError(\"Invalid choice!\")\n",
    "\n",
    "        return self.pv # for frame-wise operation\n",
    "\n",
    "    def simulate(self, iters, cost=None):\n",
    "        start_time = time.time()\n",
    "        for i in range(iters):\n",
    "            for index, row in self.env.iterrows():\n",
    "                self.make_decision(row['Trade Price'], cost)\n",
    "            self.asset_history_list.append(self.pv + self.cash)\n",
    "            self.reset()\n",
    "#         print(\"{0} iterations took {1} seconds\".format(iters, time.time() - start_time))\n",
    "        \n",
    "        return self.asset_history_list, self.action_list"
   ]
  },
  {
   "cell_type": "code",
   "execution_count": 8,
   "metadata": {
    "collapsed": false
   },
   "outputs": [
    {
     "name": "stdout",
     "output_type": "stream",
     "text": [
      "1000 iterations took 212.09482550621033 seconds\n"
     ]
    }
   ],
   "source": [
    "from pathos.multiprocessing import ProcessingPool as Pool\n",
    "from pathos import multiprocessing\n",
    "from functools import partial\n",
    "\n",
    "def monkey_simulation(df, start_date, end_date, iters, random_state=0):\n",
    "    monkey = MonkeyBot(df.ix[start_date:end_date, :], random_state=0)\n",
    "    monkey.simulate(iters)\n",
    "    \n",
    "    return monkey.asset_history_list\n",
    "\n",
    "start_time = time.time()\n",
    "\n",
    "iters = 100000\n",
    "\n",
    "partial_sim = partial(monkey_simulation, start_date=validation_start_date, end_date=validation_end_date, iters=iters, random_state=0)\n",
    "\n",
    "stocks_tuple_list = list(stocks_converted.items())\n",
    "\n",
    "pool = Pool(multiprocessing.cpu_count())\n",
    "result = pool.map(lambda x: partial_sim(x[1]), stocks_tuple_list)\n",
    "result_sum = np.sum(result, axis=0)\n",
    "\n",
    "print(\"{0} iterations took {1} seconds\".format(iters, time.time() - start_time))"
   ]
  },
  {
   "cell_type": "code",
   "execution_count": 10,
   "metadata": {
    "collapsed": false
   },
   "outputs": [
    {
     "data": {
      "text/plain": [
       "(array([  3.,  12.,  18.,  28.,  41.,  42.,  51.,  73.,  66.,  58.,  70.,\n",
       "         62.,  63.,  49.,  60.,  36.,  34.,  32.,  41.,  30.,  23.,  18.,\n",
       "         14.,  14.,   7.,   5.,  10.,   3.,   5.,   6.,   4.,   3.,   1.,\n",
       "          4.,   0.,   2.,   1.,   0.,   2.,   2.,   1.,   0.,   1.,   1.,\n",
       "          1.,   0.,   1.,   0.,   0.,   2.]),\n",
       " array([  410.98477  ,   499.3643816,   587.7439932,   676.1236048,\n",
       "          764.5032164,   852.882828 ,   941.2624396,  1029.6420512,\n",
       "         1118.0216628,  1206.4012744,  1294.780886 ,  1383.1604976,\n",
       "         1471.5401092,  1559.9197208,  1648.2993324,  1736.678944 ,\n",
       "         1825.0585556,  1913.4381672,  2001.8177788,  2090.1973904,\n",
       "         2178.577002 ,  2266.9566136,  2355.3362252,  2443.7158368,\n",
       "         2532.0954484,  2620.47506  ,  2708.8546716,  2797.2342832,\n",
       "         2885.6138948,  2973.9935064,  3062.373118 ,  3150.7527296,\n",
       "         3239.1323412,  3327.5119528,  3415.8915644,  3504.271176 ,\n",
       "         3592.6507876,  3681.0303992,  3769.4100108,  3857.7896224,\n",
       "         3946.169234 ,  4034.5488456,  4122.9284572,  4211.3080688,\n",
       "         4299.6876804,  4388.067292 ,  4476.4469036,  4564.8265152,\n",
       "         4653.2061268,  4741.5857384,  4829.96535  ]),\n",
       " <a list of 50 Patch objects>)"
      ]
     },
     "execution_count": 10,
     "metadata": {},
     "output_type": "execute_result"
    },
    {
     "data": {
      "image/png": "[encoded data removed]",
      "text/plain": [
       "<matplotlib.figure.Figure at 0x7fe3dc0b26d8>"
      ]
     },
     "metadata": {},
     "output_type": "display_data"
    }
   ],
   "source": [
    "plt.hist(result[0], bins=50)"
   ]
  },
  {
   "cell_type": "code",
   "execution_count": 11,
   "metadata": {
    "collapsed": false
   },
   "outputs": [
    {
     "data": {
      "text/plain": [
       "(array([  2.,   2.,   5.,   9.,  12.,  17.,  19.,  23.,  34.,  46.,  50.,\n",
       "         43.,  70.,  60.,  46.,  63.,  44.,  57.,  48.,  50.,  42.,  40.,\n",
       "         34.,  29.,  23.,  15.,  22.,  17.,   7.,  13.,  10.,   6.,   4.,\n",
       "         10.,   4.,   6.,   1.,   2.,   3.,   3.,   1.,   2.,   0.,   2.,\n",
       "          1.,   1.,   0.,   1.,   0.,   1.]),\n",
       " array([ 17265.03648  ,  18380.2766862,  19495.5168924,  20610.7570986,\n",
       "         21725.9973048,  22841.237511 ,  23956.4777172,  25071.7179234,\n",
       "         26186.9581296,  27302.1983358,  28417.438542 ,  29532.6787482,\n",
       "         30647.9189544,  31763.1591606,  32878.3993668,  33993.639573 ,\n",
       "         35108.8797792,  36224.1199854,  37339.3601916,  38454.6003978,\n",
       "         39569.840604 ,  40685.0808102,  41800.3210164,  42915.5612226,\n",
       "         44030.8014288,  45146.041635 ,  46261.2818412,  47376.5220474,\n",
       "         48491.7622536,  49607.0024598,  50722.242666 ,  51837.4828722,\n",
       "         52952.7230784,  54067.9632846,  55183.2034908,  56298.443697 ,\n",
       "         57413.6839032,  58528.9241094,  59644.1643156,  60759.4045218,\n",
       "         61874.644728 ,  62989.8849342,  64105.1251404,  65220.3653466,\n",
       "         66335.6055528,  67450.845759 ,  68566.0859652,  69681.3261714,\n",
       "         70796.5663776,  71911.8065838,  73027.04679  ]),\n",
       " <a list of 50 Patch objects>)"
      ]
     },
     "execution_count": 11,
     "metadata": {},
     "output_type": "execute_result"
    },
    {
     "data": {
      "image/png": "[encoded data removed]",
      "text/plain": [
       "<matplotlib.figure.Figure at 0x7fe3ccea8208>"
      ]
     },
     "metadata": {},
     "output_type": "display_data"
    }
   ],
   "source": [
    "plt.hist(result_sum, bins=50)"
   ]
  },
  {
   "cell_type": "code",
   "execution_count": 13,
   "metadata": {
    "collapsed": false
   },
   "outputs": [
    {
     "data": {
      "text/plain": [
       "count     1000.000000\n",
       "mean     36162.576867\n",
       "std       8435.025116\n",
       "min      17265.036480\n",
       "25%      30346.218617\n",
       "50%      35092.768705\n",
       "75%      40819.250750\n",
       "max      73027.046790\n",
       "dtype: float64"
      ]
     },
     "execution_count": 13,
     "metadata": {},
     "output_type": "execute_result"
    }
   ],
   "source": [
    "pd.Series(result_sum).describe()"
   ]
  },
  {
   "cell_type": "code",
   "execution_count": null,
   "metadata": {
    "collapsed": true
   },
   "outputs": [],
   "source": []
  }
 ],
 "metadata": {
  "anaconda-cloud": {},
  "kernelspec": {
   "display_name": "Python [conda env:chimp]",
   "language": "python",
   "name": "conda-env-chimp-py"
  },
  "language_info": {
   "codemirror_mode": {
    "name": "ipython",
    "version": 3
   },
   "file_extension": ".py",
   "mimetype": "text/x-python",
   "name": "python",
   "nbconvert_exporter": "python",
   "pygments_lexer": "ipython3",
   "version": "3.5.2"
  }
 },
 "nbformat": 4,
 "nbformat_minor": 1
}
